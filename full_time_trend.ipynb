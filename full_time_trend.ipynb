{
 "cells": [
  {
   "cell_type": "code",
   "execution_count": null,
   "metadata": {
    "collapsed": true
   },
   "outputs": [],
   "source": []
  },
  {
   "cell_type": "code",
   "execution_count": 1,
   "outputs": [],
   "source": [
    "import pandas as pd\n",
    "import numpy as np\n",
    "import statsmodels.formula.api as sm\n",
    "from scipy import stats\n",
    "from datetime import datetime\n",
    "import matplotlib.pyplot as plt\n",
    "import statsmodels.api as sm\n",
    "import patsy\n",
    "\n",
    "from statsmodels.tsa.arima.model import ARIMA\n",
    "from sklearn.metrics import mean_squared_error\n",
    "import pmdarima as pm\n",
    "import seaborn as sns\n",
    "from scipy.stats import zscore"
   ],
   "metadata": {
    "collapsed": false,
    "pycharm": {
     "name": "#%%\n"
    }
   }
  },
  {
   "cell_type": "code",
   "execution_count": 2,
   "outputs": [],
   "source": [
    "df = pd.read_excel(\"Clapham MSC Final Analysis (1).xlsx\", parse_dates = [0]).rename(columns={\"Row Labels\":\"date\"})\n",
    "df = df.iloc[0:-1]"
   ],
   "metadata": {
    "collapsed": false,
    "pycharm": {
     "name": "#%%\n"
    }
   }
  },
  {
   "cell_type": "code",
   "execution_count": 3,
   "outputs": [],
   "source": [
    "df[\"date\"] = pd.to_datetime(df[\"date\"])"
   ],
   "metadata": {
    "collapsed": false,
    "pycharm": {
     "name": "#%%\n"
    }
   }
  },
  {
   "cell_type": "code",
   "execution_count": 4,
   "outputs": [
    {
     "data": {
      "text/plain": "          date  TNOs  MSC Numbers  isWeekend  Day of Week  Drugs  Robbery  \\\n0   2018-02-01     8            0        0.0          4.0      2        0   \n1   2018-02-03    16            4        1.0          6.0      0        2   \n2   2018-05-25    10            8        1.0          5.0      0        1   \n3   2018-06-29     8            9        1.0          5.0      0        1   \n4   2018-07-07    11            1        1.0          6.0      0        0   \n..         ...   ...          ...        ...          ...    ...      ...   \n200 2018-07-27    10           17        1.0          5.0      0        0   \n201 2018-07-29     1            0        0.0          7.0      0        0   \n202 2017-12-09     1            0        1.0          6.0      0        0   \n203 2018-07-30     5            0        0.0          1.0      0        1   \n204 2018-07-31     1            0        0.0          2.0      0        0   \n\n     Sexual Offences  Theft and Handling  VAP  Average Temp  Average Humidity  \\\n0                  0                   4    1          5.70           70.8350   \n1                  0                  11    2          4.25           86.5550   \n2                  0                   7    1         16.95           83.8355   \n3                  0                   4    2         18.45           67.5165   \n4                  0                   3    5         23.25           57.0280   \n..               ...                 ...  ...           ...               ...   \n200                0                   4    4         20.60           76.2955   \n201                0                   1    0         20.10           81.8545   \n202                0                   1    0          2.85           69.7560   \n203                0                   3    0         19.75           66.5200   \n204                0                   0    1         19.10           64.5445   \n\n     Average Wind Speed  \n0                 11.20  \n1                  4.75  \n2                  5.30  \n3                  9.30  \n4                  6.75  \n..                  ...  \n200                7.45  \n201               10.95  \n202                6.00  \n203                7.95  \n204                7.85  \n\n[205 rows x 13 columns]",
      "text/html": "<div>\n<style scoped>\n    .dataframe tbody tr th:only-of-type {\n        vertical-align: middle;\n    }\n\n    .dataframe tbody tr th {\n        vertical-align: top;\n    }\n\n    .dataframe thead th {\n        text-align: right;\n    }\n</style>\n<table border=\"1\" class=\"dataframe\">\n  <thead>\n    <tr style=\"text-align: right;\">\n      <th></th>\n      <th>date</th>\n      <th>TNOs</th>\n      <th>MSC Numbers</th>\n      <th>isWeekend</th>\n      <th>Day of Week</th>\n      <th>Drugs</th>\n      <th>Robbery</th>\n      <th>Sexual Offences</th>\n      <th>Theft and Handling</th>\n      <th>VAP</th>\n      <th>Average Temp</th>\n      <th>Average Humidity</th>\n      <th>Average Wind Speed</th>\n    </tr>\n  </thead>\n  <tbody>\n    <tr>\n      <th>0</th>\n      <td>2018-02-01</td>\n      <td>8</td>\n      <td>0</td>\n      <td>0.0</td>\n      <td>4.0</td>\n      <td>2</td>\n      <td>0</td>\n      <td>0</td>\n      <td>4</td>\n      <td>1</td>\n      <td>5.70</td>\n      <td>70.8350</td>\n      <td>11.20</td>\n    </tr>\n    <tr>\n      <th>1</th>\n      <td>2018-02-03</td>\n      <td>16</td>\n      <td>4</td>\n      <td>1.0</td>\n      <td>6.0</td>\n      <td>0</td>\n      <td>2</td>\n      <td>0</td>\n      <td>11</td>\n      <td>2</td>\n      <td>4.25</td>\n      <td>86.5550</td>\n      <td>4.75</td>\n    </tr>\n    <tr>\n      <th>2</th>\n      <td>2018-05-25</td>\n      <td>10</td>\n      <td>8</td>\n      <td>1.0</td>\n      <td>5.0</td>\n      <td>0</td>\n      <td>1</td>\n      <td>0</td>\n      <td>7</td>\n      <td>1</td>\n      <td>16.95</td>\n      <td>83.8355</td>\n      <td>5.30</td>\n    </tr>\n    <tr>\n      <th>3</th>\n      <td>2018-06-29</td>\n      <td>8</td>\n      <td>9</td>\n      <td>1.0</td>\n      <td>5.0</td>\n      <td>0</td>\n      <td>1</td>\n      <td>0</td>\n      <td>4</td>\n      <td>2</td>\n      <td>18.45</td>\n      <td>67.5165</td>\n      <td>9.30</td>\n    </tr>\n    <tr>\n      <th>4</th>\n      <td>2018-07-07</td>\n      <td>11</td>\n      <td>1</td>\n      <td>1.0</td>\n      <td>6.0</td>\n      <td>0</td>\n      <td>0</td>\n      <td>0</td>\n      <td>3</td>\n      <td>5</td>\n      <td>23.25</td>\n      <td>57.0280</td>\n      <td>6.75</td>\n    </tr>\n    <tr>\n      <th>...</th>\n      <td>...</td>\n      <td>...</td>\n      <td>...</td>\n      <td>...</td>\n      <td>...</td>\n      <td>...</td>\n      <td>...</td>\n      <td>...</td>\n      <td>...</td>\n      <td>...</td>\n      <td>...</td>\n      <td>...</td>\n      <td>...</td>\n    </tr>\n    <tr>\n      <th>200</th>\n      <td>2018-07-27</td>\n      <td>10</td>\n      <td>17</td>\n      <td>1.0</td>\n      <td>5.0</td>\n      <td>0</td>\n      <td>0</td>\n      <td>0</td>\n      <td>4</td>\n      <td>4</td>\n      <td>20.60</td>\n      <td>76.2955</td>\n      <td>7.45</td>\n    </tr>\n    <tr>\n      <th>201</th>\n      <td>2018-07-29</td>\n      <td>1</td>\n      <td>0</td>\n      <td>0.0</td>\n      <td>7.0</td>\n      <td>0</td>\n      <td>0</td>\n      <td>0</td>\n      <td>1</td>\n      <td>0</td>\n      <td>20.10</td>\n      <td>81.8545</td>\n      <td>10.95</td>\n    </tr>\n    <tr>\n      <th>202</th>\n      <td>2017-12-09</td>\n      <td>1</td>\n      <td>0</td>\n      <td>1.0</td>\n      <td>6.0</td>\n      <td>0</td>\n      <td>0</td>\n      <td>0</td>\n      <td>1</td>\n      <td>0</td>\n      <td>2.85</td>\n      <td>69.7560</td>\n      <td>6.00</td>\n    </tr>\n    <tr>\n      <th>203</th>\n      <td>2018-07-30</td>\n      <td>5</td>\n      <td>0</td>\n      <td>0.0</td>\n      <td>1.0</td>\n      <td>0</td>\n      <td>1</td>\n      <td>0</td>\n      <td>3</td>\n      <td>0</td>\n      <td>19.75</td>\n      <td>66.5200</td>\n      <td>7.95</td>\n    </tr>\n    <tr>\n      <th>204</th>\n      <td>2018-07-31</td>\n      <td>1</td>\n      <td>0</td>\n      <td>0.0</td>\n      <td>2.0</td>\n      <td>0</td>\n      <td>0</td>\n      <td>0</td>\n      <td>0</td>\n      <td>1</td>\n      <td>19.10</td>\n      <td>64.5445</td>\n      <td>7.85</td>\n    </tr>\n  </tbody>\n</table>\n<p>205 rows × 13 columns</p>\n</div>"
     },
     "execution_count": 4,
     "metadata": {},
     "output_type": "execute_result"
    }
   ],
   "source": [
    "df"
   ],
   "metadata": {
    "collapsed": false,
    "pycharm": {
     "name": "#%%\n"
    }
   }
  },
  {
   "cell_type": "code",
   "execution_count": 5,
   "outputs": [
    {
     "data": {
      "text/plain": "DatetimeIndex(['2018-01-26', '2018-01-27', '2018-01-28', '2018-01-29',\n               '2018-01-30', '2018-01-31', '2018-02-01', '2018-02-02',\n               '2018-02-03', '2018-02-04',\n               ...\n               '2018-07-19', '2018-07-20', '2018-07-21', '2018-07-22',\n               '2018-07-23', '2018-07-24', '2018-07-25', '2018-07-26',\n               '2018-07-27', '2018-07-28'],\n              dtype='datetime64[ns]', length=184, freq='D')"
     },
     "execution_count": 5,
     "metadata": {},
     "output_type": "execute_result"
    }
   ],
   "source": [
    "dates = pd.bdate_range(\"2018-01-26\", \"2018-07-28\", freq=\"D\")\n",
    "dates"
   ],
   "metadata": {
    "collapsed": false,
    "pycharm": {
     "name": "#%%\n"
    }
   }
  },
  {
   "cell_type": "code",
   "execution_count": 6,
   "outputs": [],
   "source": [
    "\n",
    "dateframe = pd.DataFrame(index=dates)\n",
    "\n",
    "dateframe[\"DayOfWeek\"] = dateframe.index.weekday.astype(\"category\")\n",
    "\n",
    "dateframe[\"date\"] = dateframe.index\n"
   ],
   "metadata": {
    "collapsed": false,
    "pycharm": {
     "name": "#%%\n"
    }
   }
  },
  {
   "cell_type": "code",
   "execution_count": 7,
   "outputs": [
    {
     "data": {
      "text/plain": "           DayOfWeek       date\n2018-01-26         4 2018-01-26\n2018-01-27         5 2018-01-27\n2018-01-28         6 2018-01-28\n2018-01-29         0 2018-01-29\n2018-01-30         1 2018-01-30\n...              ...        ...\n2018-07-24         1 2018-07-24\n2018-07-25         2 2018-07-25\n2018-07-26         3 2018-07-26\n2018-07-27         4 2018-07-27\n2018-07-28         5 2018-07-28\n\n[184 rows x 2 columns]",
      "text/html": "<div>\n<style scoped>\n    .dataframe tbody tr th:only-of-type {\n        vertical-align: middle;\n    }\n\n    .dataframe tbody tr th {\n        vertical-align: top;\n    }\n\n    .dataframe thead th {\n        text-align: right;\n    }\n</style>\n<table border=\"1\" class=\"dataframe\">\n  <thead>\n    <tr style=\"text-align: right;\">\n      <th></th>\n      <th>DayOfWeek</th>\n      <th>date</th>\n    </tr>\n  </thead>\n  <tbody>\n    <tr>\n      <th>2018-01-26</th>\n      <td>4</td>\n      <td>2018-01-26</td>\n    </tr>\n    <tr>\n      <th>2018-01-27</th>\n      <td>5</td>\n      <td>2018-01-27</td>\n    </tr>\n    <tr>\n      <th>2018-01-28</th>\n      <td>6</td>\n      <td>2018-01-28</td>\n    </tr>\n    <tr>\n      <th>2018-01-29</th>\n      <td>0</td>\n      <td>2018-01-29</td>\n    </tr>\n    <tr>\n      <th>2018-01-30</th>\n      <td>1</td>\n      <td>2018-01-30</td>\n    </tr>\n    <tr>\n      <th>...</th>\n      <td>...</td>\n      <td>...</td>\n    </tr>\n    <tr>\n      <th>2018-07-24</th>\n      <td>1</td>\n      <td>2018-07-24</td>\n    </tr>\n    <tr>\n      <th>2018-07-25</th>\n      <td>2</td>\n      <td>2018-07-25</td>\n    </tr>\n    <tr>\n      <th>2018-07-26</th>\n      <td>3</td>\n      <td>2018-07-26</td>\n    </tr>\n    <tr>\n      <th>2018-07-27</th>\n      <td>4</td>\n      <td>2018-07-27</td>\n    </tr>\n    <tr>\n      <th>2018-07-28</th>\n      <td>5</td>\n      <td>2018-07-28</td>\n    </tr>\n  </tbody>\n</table>\n<p>184 rows × 2 columns</p>\n</div>"
     },
     "execution_count": 7,
     "metadata": {},
     "output_type": "execute_result"
    }
   ],
   "source": [
    "dateframe"
   ],
   "metadata": {
    "collapsed": false,
    "pycharm": {
     "name": "#%%\n"
    }
   }
  },
  {
   "cell_type": "code",
   "execution_count": 8,
   "outputs": [
    {
     "data": {
      "text/plain": "    DayOfWeek       date  TNOs  MSC Numbers  isWeekend  Day of Week  Drugs  \\\n0           4 2018-01-26   1.0          0.0        1.0          5.0    0.0   \n1           5 2018-01-27   2.0          0.0        1.0          6.0    0.0   \n2           6 2018-01-28   NaN          NaN        NaN          NaN    NaN   \n3           0 2018-01-29   NaN          NaN        NaN          NaN    NaN   \n4           1 2018-01-30   3.0          0.0        0.0          2.0    0.0   \n..        ...        ...   ...          ...        ...          ...    ...   \n180         1 2018-07-24   4.0          0.0        0.0          2.0    1.0   \n181         2 2018-07-25   3.0          0.0        0.0          3.0    0.0   \n182         3 2018-07-26   5.0          0.0        0.0          4.0    0.0   \n183         4 2018-07-27  10.0         17.0        1.0          5.0    0.0   \n184         5 2018-07-28  16.0          7.0        1.0          6.0    1.0   \n\n     Robbery  Sexual Offences  Theft and Handling  VAP  Average Temp  \\\n0        1.0              0.0                 0.0  0.0          7.35   \n1        0.0              0.0                 1.0  1.0         11.10   \n2        NaN              NaN                 NaN  NaN           NaN   \n3        NaN              NaN                 NaN  NaN           NaN   \n4        0.0              0.0                 2.0  0.0          9.25   \n..       ...              ...                 ...  ...           ...   \n180      0.0              0.0                 1.0  2.0         25.15   \n181      0.0              0.0                 2.0  0.0         23.05   \n182      0.0              1.0                 4.0  0.0         28.25   \n183      0.0              0.0                 4.0  4.0         20.60   \n184      1.0              0.0                10.0  3.0         18.70   \n\n     Average Humidity  Average Wind Speed  \n0             76.7720                3.55  \n1             86.3940               10.60  \n2                 NaN                 NaN  \n3                 NaN                 NaN  \n4             81.7195               10.45  \n..                ...                 ...  \n180           52.7300                6.40  \n181           76.5360                9.75  \n182           45.1545                6.10  \n183           76.2955                7.45  \n184           59.7300               11.35  \n\n[185 rows x 14 columns]",
      "text/html": "<div>\n<style scoped>\n    .dataframe tbody tr th:only-of-type {\n        vertical-align: middle;\n    }\n\n    .dataframe tbody tr th {\n        vertical-align: top;\n    }\n\n    .dataframe thead th {\n        text-align: right;\n    }\n</style>\n<table border=\"1\" class=\"dataframe\">\n  <thead>\n    <tr style=\"text-align: right;\">\n      <th></th>\n      <th>DayOfWeek</th>\n      <th>date</th>\n      <th>TNOs</th>\n      <th>MSC Numbers</th>\n      <th>isWeekend</th>\n      <th>Day of Week</th>\n      <th>Drugs</th>\n      <th>Robbery</th>\n      <th>Sexual Offences</th>\n      <th>Theft and Handling</th>\n      <th>VAP</th>\n      <th>Average Temp</th>\n      <th>Average Humidity</th>\n      <th>Average Wind Speed</th>\n    </tr>\n  </thead>\n  <tbody>\n    <tr>\n      <th>0</th>\n      <td>4</td>\n      <td>2018-01-26</td>\n      <td>1.0</td>\n      <td>0.0</td>\n      <td>1.0</td>\n      <td>5.0</td>\n      <td>0.0</td>\n      <td>1.0</td>\n      <td>0.0</td>\n      <td>0.0</td>\n      <td>0.0</td>\n      <td>7.35</td>\n      <td>76.7720</td>\n      <td>3.55</td>\n    </tr>\n    <tr>\n      <th>1</th>\n      <td>5</td>\n      <td>2018-01-27</td>\n      <td>2.0</td>\n      <td>0.0</td>\n      <td>1.0</td>\n      <td>6.0</td>\n      <td>0.0</td>\n      <td>0.0</td>\n      <td>0.0</td>\n      <td>1.0</td>\n      <td>1.0</td>\n      <td>11.10</td>\n      <td>86.3940</td>\n      <td>10.60</td>\n    </tr>\n    <tr>\n      <th>2</th>\n      <td>6</td>\n      <td>2018-01-28</td>\n      <td>NaN</td>\n      <td>NaN</td>\n      <td>NaN</td>\n      <td>NaN</td>\n      <td>NaN</td>\n      <td>NaN</td>\n      <td>NaN</td>\n      <td>NaN</td>\n      <td>NaN</td>\n      <td>NaN</td>\n      <td>NaN</td>\n      <td>NaN</td>\n    </tr>\n    <tr>\n      <th>3</th>\n      <td>0</td>\n      <td>2018-01-29</td>\n      <td>NaN</td>\n      <td>NaN</td>\n      <td>NaN</td>\n      <td>NaN</td>\n      <td>NaN</td>\n      <td>NaN</td>\n      <td>NaN</td>\n      <td>NaN</td>\n      <td>NaN</td>\n      <td>NaN</td>\n      <td>NaN</td>\n      <td>NaN</td>\n    </tr>\n    <tr>\n      <th>4</th>\n      <td>1</td>\n      <td>2018-01-30</td>\n      <td>3.0</td>\n      <td>0.0</td>\n      <td>0.0</td>\n      <td>2.0</td>\n      <td>0.0</td>\n      <td>0.0</td>\n      <td>0.0</td>\n      <td>2.0</td>\n      <td>0.0</td>\n      <td>9.25</td>\n      <td>81.7195</td>\n      <td>10.45</td>\n    </tr>\n    <tr>\n      <th>...</th>\n      <td>...</td>\n      <td>...</td>\n      <td>...</td>\n      <td>...</td>\n      <td>...</td>\n      <td>...</td>\n      <td>...</td>\n      <td>...</td>\n      <td>...</td>\n      <td>...</td>\n      <td>...</td>\n      <td>...</td>\n      <td>...</td>\n      <td>...</td>\n    </tr>\n    <tr>\n      <th>180</th>\n      <td>1</td>\n      <td>2018-07-24</td>\n      <td>4.0</td>\n      <td>0.0</td>\n      <td>0.0</td>\n      <td>2.0</td>\n      <td>1.0</td>\n      <td>0.0</td>\n      <td>0.0</td>\n      <td>1.0</td>\n      <td>2.0</td>\n      <td>25.15</td>\n      <td>52.7300</td>\n      <td>6.40</td>\n    </tr>\n    <tr>\n      <th>181</th>\n      <td>2</td>\n      <td>2018-07-25</td>\n      <td>3.0</td>\n      <td>0.0</td>\n      <td>0.0</td>\n      <td>3.0</td>\n      <td>0.0</td>\n      <td>0.0</td>\n      <td>0.0</td>\n      <td>2.0</td>\n      <td>0.0</td>\n      <td>23.05</td>\n      <td>76.5360</td>\n      <td>9.75</td>\n    </tr>\n    <tr>\n      <th>182</th>\n      <td>3</td>\n      <td>2018-07-26</td>\n      <td>5.0</td>\n      <td>0.0</td>\n      <td>0.0</td>\n      <td>4.0</td>\n      <td>0.0</td>\n      <td>0.0</td>\n      <td>1.0</td>\n      <td>4.0</td>\n      <td>0.0</td>\n      <td>28.25</td>\n      <td>45.1545</td>\n      <td>6.10</td>\n    </tr>\n    <tr>\n      <th>183</th>\n      <td>4</td>\n      <td>2018-07-27</td>\n      <td>10.0</td>\n      <td>17.0</td>\n      <td>1.0</td>\n      <td>5.0</td>\n      <td>0.0</td>\n      <td>0.0</td>\n      <td>0.0</td>\n      <td>4.0</td>\n      <td>4.0</td>\n      <td>20.60</td>\n      <td>76.2955</td>\n      <td>7.45</td>\n    </tr>\n    <tr>\n      <th>184</th>\n      <td>5</td>\n      <td>2018-07-28</td>\n      <td>16.0</td>\n      <td>7.0</td>\n      <td>1.0</td>\n      <td>6.0</td>\n      <td>1.0</td>\n      <td>1.0</td>\n      <td>0.0</td>\n      <td>10.0</td>\n      <td>3.0</td>\n      <td>18.70</td>\n      <td>59.7300</td>\n      <td>11.35</td>\n    </tr>\n  </tbody>\n</table>\n<p>185 rows × 14 columns</p>\n</div>"
     },
     "execution_count": 8,
     "metadata": {},
     "output_type": "execute_result"
    }
   ],
   "source": [
    "combined = dateframe.merge(df, how=\"left\", on=\"date\")\n",
    "combined"
   ],
   "metadata": {
    "collapsed": false,
    "pycharm": {
     "name": "#%%\n"
    }
   }
  },
  {
   "cell_type": "code",
   "execution_count": 9,
   "outputs": [
    {
     "data": {
      "text/plain": "DayOfWeek             0\ndate                  0\nTNOs                  2\nMSC Numbers           2\nisWeekend             2\nDay of Week           2\nDrugs                 2\nRobbery               2\nSexual Offences       2\nTheft and Handling    2\nVAP                   2\nAverage Temp          3\nAverage Humidity      3\nAverage Wind Speed    3\ndtype: int64"
     },
     "execution_count": 9,
     "metadata": {},
     "output_type": "execute_result"
    }
   ],
   "source": [
    "combined.isna().sum()"
   ],
   "metadata": {
    "collapsed": false,
    "pycharm": {
     "name": "#%%\n"
    }
   }
  },
  {
   "cell_type": "markdown",
   "source": [
    "We now have a complete dataset of 185 rows, with only a few missing values.  Let's deal with them reasonably.\n"
   ],
   "metadata": {
    "collapsed": false,
    "pycharm": {
     "name": "#%% md\n"
    }
   }
  },
  {
   "cell_type": "code",
   "execution_count": 10,
   "outputs": [
    {
     "data": {
      "text/plain": "Index(['DayOfWeek', 'date', 'TNOs', 'MSC Numbers', 'isWeekend', 'Day of Week',\n       'Drugs', 'Robbery', 'Sexual Offences', 'Theft and Handling', 'VAP',\n       'Average Temp', 'Average Humidity', 'Average Wind Speed'],\n      dtype='object')"
     },
     "execution_count": 10,
     "metadata": {},
     "output_type": "execute_result"
    }
   ],
   "source": [
    "combined.columns"
   ],
   "metadata": {
    "collapsed": false,
    "pycharm": {
     "name": "#%%\n"
    }
   }
  },
  {
   "cell_type": "code",
   "execution_count": 11,
   "outputs": [
    {
     "data": {
      "text/plain": "DayOfWeek             0\ndate                  0\nTNOs                  0\nMSC Numbers           0\nisWeekend             0\nDay of Week           0\nDrugs                 0\nRobbery               0\nSexual Offences       0\nTheft and Handling    0\nVAP                   0\nAverage Temp          0\nAverage Humidity      0\nAverage Wind Speed    0\ndtype: int64"
     },
     "execution_count": 11,
     "metadata": {},
     "output_type": "execute_result"
    }
   ],
   "source": [
    "combined[[ 'TNOs', 'MSC Numbers', 'isWeekend', 'Day of Week',\n",
    "       'Drugs', 'Robbery', 'Sexual Offences', 'Theft and Handling', 'VAP',\n",
    "       'Average Temp', 'Average Humidity', 'Average Wind Speed']] = combined[[ 'TNOs', 'MSC Numbers', 'isWeekend', 'Day of Week',\n",
    "       'Drugs', 'Robbery', 'Sexual Offences', 'Theft and Handling', 'VAP',\n",
    "       'Average Temp', 'Average Humidity', 'Average Wind Speed']].interpolate()\n",
    "\n",
    "combined.isna().sum()"
   ],
   "metadata": {
    "collapsed": false,
    "pycharm": {
     "name": "#%%\n"
    }
   }
  },
  {
   "cell_type": "markdown",
   "source": [
    "Now we have interpolated and have no missing value - a full 185 day dataset\n",
    "\n"
   ],
   "metadata": {
    "collapsed": false,
    "pycharm": {
     "name": "#%% md\n"
    }
   }
  },
  {
   "cell_type": "code",
   "execution_count": 12,
   "outputs": [],
   "source": [
    "combined.rename(columns={\"MSC Numbers\":\"OfficerDosage\", \"Sexual Offences\":\"SexualOffences\",\n",
    "                         \"Theft and Handling\":\"Theft\",'Average Temp':\"Temp\",\n",
    "                'Average Humidity':\"Humid\", 'Average Wind Speed':\"Wind\"}, inplace=True)\n"
   ],
   "metadata": {
    "collapsed": false,
    "pycharm": {
     "name": "#%%\n"
    }
   }
  },
  {
   "cell_type": "code",
   "execution_count": 13,
   "outputs": [
    {
     "data": {
      "text/plain": "Index(['DayOfWeek', 'date', 'TNOs', 'OfficerDosage', 'isWeekend',\n       'Day of Week', 'Drugs', 'Robbery', 'SexualOffences', 'Theft', 'VAP',\n       'Temp', 'Humid', 'Wind'],\n      dtype='object')"
     },
     "execution_count": 13,
     "metadata": {},
     "output_type": "execute_result"
    }
   ],
   "source": [
    "combined.columns"
   ],
   "metadata": {
    "collapsed": false,
    "pycharm": {
     "name": "#%%\n"
    }
   }
  },
  {
   "cell_type": "code",
   "execution_count": 14,
   "outputs": [
    {
     "data": {
      "text/plain": "    DayOfWeek       date       TNOs  OfficerDosage  isWeekend  Day of Week  \\\n0           4 2018-01-26   1.000000            0.0   1.000000     5.000000   \n1           5 2018-01-27   2.000000            0.0   1.000000     6.000000   \n2           6 2018-01-28   2.333333            0.0   0.666667     4.666667   \n3           0 2018-01-29   2.666667            0.0   0.333333     3.333333   \n4           1 2018-01-30   3.000000            0.0   0.000000     2.000000   \n..        ...        ...        ...            ...        ...          ...   \n180         1 2018-07-24   4.000000            0.0   0.000000     2.000000   \n181         2 2018-07-25   3.000000            0.0   0.000000     3.000000   \n182         3 2018-07-26   5.000000            0.0   0.000000     4.000000   \n183         4 2018-07-27  10.000000           17.0   1.000000     5.000000   \n184         5 2018-07-28  16.000000            7.0   1.000000     6.000000   \n\n     Drugs  Robbery  SexualOffences      Theft  ...  z_isWeekend  \\\n0      0.0      1.0             0.0   0.000000  ...     1.526464   \n1      0.0      0.0             0.0   1.000000  ...     1.526464   \n2      0.0      0.0             0.0   1.333333  ...     0.796759   \n3      0.0      0.0             0.0   1.666667  ...     0.067054   \n4      0.0      0.0             0.0   2.000000  ...    -0.662651   \n..     ...      ...             ...        ...  ...          ...   \n180    1.0      0.0             0.0   1.000000  ...    -0.662651   \n181    0.0      0.0             0.0   2.000000  ...    -0.662651   \n182    0.0      0.0             1.0   4.000000  ...    -0.662651   \n183    0.0      0.0             0.0   4.000000  ...     1.526464   \n184    1.0      1.0             0.0  10.000000  ...     1.526464   \n\n     z_Day of Week   z_Drugs  z_Robbery  z_SexualOffences   z_Theft     z_VAP  \\\n0         0.497042 -0.474193   1.358845         -0.349727 -1.065823 -1.052367   \n1         1.005068 -0.474193  -0.560135         -0.349727 -0.724686 -0.491307   \n2         0.327700 -0.474193  -0.560135         -0.349727 -0.610973 -0.678327   \n3        -0.349669 -0.474193  -0.560135         -0.349727 -0.497261 -0.865347   \n4        -1.027037 -0.474193  -0.560135         -0.349727 -0.383549 -1.052367   \n..             ...       ...        ...               ...       ...       ...   \n180      -1.027037  0.987903  -0.560135         -0.349727 -0.724686  0.069753   \n181      -0.519011 -0.474193  -0.560135         -0.349727 -0.383549 -1.052367   \n182      -0.010984 -0.474193  -0.560135          2.238255  0.298725 -1.052367   \n183       0.497042 -0.474193  -0.560135         -0.349727  0.298725  1.191874   \n184       1.005068  0.987903   1.358845         -0.349727  2.345547  0.630814   \n\n       z_Temp   z_Humid    z_Wind  \n0   -0.803641  0.464384 -1.471496  \n1   -0.229538  1.288659  0.885904  \n2   -0.323946  1.155177  0.869185  \n3   -0.418354  1.021696  0.852466  \n4   -0.512762  0.888215  0.835747  \n..        ...       ...       ...  \n180  1.921436 -1.595189 -0.518504  \n181  1.599938  0.444167  0.601678  \n182  2.396029 -2.244148 -0.618819  \n183  1.224858  0.423564 -0.167402  \n184  0.933978 -0.995529  1.136691  \n\n[185 rows x 26 columns]",
      "text/html": "<div>\n<style scoped>\n    .dataframe tbody tr th:only-of-type {\n        vertical-align: middle;\n    }\n\n    .dataframe tbody tr th {\n        vertical-align: top;\n    }\n\n    .dataframe thead th {\n        text-align: right;\n    }\n</style>\n<table border=\"1\" class=\"dataframe\">\n  <thead>\n    <tr style=\"text-align: right;\">\n      <th></th>\n      <th>DayOfWeek</th>\n      <th>date</th>\n      <th>TNOs</th>\n      <th>OfficerDosage</th>\n      <th>isWeekend</th>\n      <th>Day of Week</th>\n      <th>Drugs</th>\n      <th>Robbery</th>\n      <th>SexualOffences</th>\n      <th>Theft</th>\n      <th>...</th>\n      <th>z_isWeekend</th>\n      <th>z_Day of Week</th>\n      <th>z_Drugs</th>\n      <th>z_Robbery</th>\n      <th>z_SexualOffences</th>\n      <th>z_Theft</th>\n      <th>z_VAP</th>\n      <th>z_Temp</th>\n      <th>z_Humid</th>\n      <th>z_Wind</th>\n    </tr>\n  </thead>\n  <tbody>\n    <tr>\n      <th>0</th>\n      <td>4</td>\n      <td>2018-01-26</td>\n      <td>1.000000</td>\n      <td>0.0</td>\n      <td>1.000000</td>\n      <td>5.000000</td>\n      <td>0.0</td>\n      <td>1.0</td>\n      <td>0.0</td>\n      <td>0.000000</td>\n      <td>...</td>\n      <td>1.526464</td>\n      <td>0.497042</td>\n      <td>-0.474193</td>\n      <td>1.358845</td>\n      <td>-0.349727</td>\n      <td>-1.065823</td>\n      <td>-1.052367</td>\n      <td>-0.803641</td>\n      <td>0.464384</td>\n      <td>-1.471496</td>\n    </tr>\n    <tr>\n      <th>1</th>\n      <td>5</td>\n      <td>2018-01-27</td>\n      <td>2.000000</td>\n      <td>0.0</td>\n      <td>1.000000</td>\n      <td>6.000000</td>\n      <td>0.0</td>\n      <td>0.0</td>\n      <td>0.0</td>\n      <td>1.000000</td>\n      <td>...</td>\n      <td>1.526464</td>\n      <td>1.005068</td>\n      <td>-0.474193</td>\n      <td>-0.560135</td>\n      <td>-0.349727</td>\n      <td>-0.724686</td>\n      <td>-0.491307</td>\n      <td>-0.229538</td>\n      <td>1.288659</td>\n      <td>0.885904</td>\n    </tr>\n    <tr>\n      <th>2</th>\n      <td>6</td>\n      <td>2018-01-28</td>\n      <td>2.333333</td>\n      <td>0.0</td>\n      <td>0.666667</td>\n      <td>4.666667</td>\n      <td>0.0</td>\n      <td>0.0</td>\n      <td>0.0</td>\n      <td>1.333333</td>\n      <td>...</td>\n      <td>0.796759</td>\n      <td>0.327700</td>\n      <td>-0.474193</td>\n      <td>-0.560135</td>\n      <td>-0.349727</td>\n      <td>-0.610973</td>\n      <td>-0.678327</td>\n      <td>-0.323946</td>\n      <td>1.155177</td>\n      <td>0.869185</td>\n    </tr>\n    <tr>\n      <th>3</th>\n      <td>0</td>\n      <td>2018-01-29</td>\n      <td>2.666667</td>\n      <td>0.0</td>\n      <td>0.333333</td>\n      <td>3.333333</td>\n      <td>0.0</td>\n      <td>0.0</td>\n      <td>0.0</td>\n      <td>1.666667</td>\n      <td>...</td>\n      <td>0.067054</td>\n      <td>-0.349669</td>\n      <td>-0.474193</td>\n      <td>-0.560135</td>\n      <td>-0.349727</td>\n      <td>-0.497261</td>\n      <td>-0.865347</td>\n      <td>-0.418354</td>\n      <td>1.021696</td>\n      <td>0.852466</td>\n    </tr>\n    <tr>\n      <th>4</th>\n      <td>1</td>\n      <td>2018-01-30</td>\n      <td>3.000000</td>\n      <td>0.0</td>\n      <td>0.000000</td>\n      <td>2.000000</td>\n      <td>0.0</td>\n      <td>0.0</td>\n      <td>0.0</td>\n      <td>2.000000</td>\n      <td>...</td>\n      <td>-0.662651</td>\n      <td>-1.027037</td>\n      <td>-0.474193</td>\n      <td>-0.560135</td>\n      <td>-0.349727</td>\n      <td>-0.383549</td>\n      <td>-1.052367</td>\n      <td>-0.512762</td>\n      <td>0.888215</td>\n      <td>0.835747</td>\n    </tr>\n    <tr>\n      <th>...</th>\n      <td>...</td>\n      <td>...</td>\n      <td>...</td>\n      <td>...</td>\n      <td>...</td>\n      <td>...</td>\n      <td>...</td>\n      <td>...</td>\n      <td>...</td>\n      <td>...</td>\n      <td>...</td>\n      <td>...</td>\n      <td>...</td>\n      <td>...</td>\n      <td>...</td>\n      <td>...</td>\n      <td>...</td>\n      <td>...</td>\n      <td>...</td>\n      <td>...</td>\n      <td>...</td>\n    </tr>\n    <tr>\n      <th>180</th>\n      <td>1</td>\n      <td>2018-07-24</td>\n      <td>4.000000</td>\n      <td>0.0</td>\n      <td>0.000000</td>\n      <td>2.000000</td>\n      <td>1.0</td>\n      <td>0.0</td>\n      <td>0.0</td>\n      <td>1.000000</td>\n      <td>...</td>\n      <td>-0.662651</td>\n      <td>-1.027037</td>\n      <td>0.987903</td>\n      <td>-0.560135</td>\n      <td>-0.349727</td>\n      <td>-0.724686</td>\n      <td>0.069753</td>\n      <td>1.921436</td>\n      <td>-1.595189</td>\n      <td>-0.518504</td>\n    </tr>\n    <tr>\n      <th>181</th>\n      <td>2</td>\n      <td>2018-07-25</td>\n      <td>3.000000</td>\n      <td>0.0</td>\n      <td>0.000000</td>\n      <td>3.000000</td>\n      <td>0.0</td>\n      <td>0.0</td>\n      <td>0.0</td>\n      <td>2.000000</td>\n      <td>...</td>\n      <td>-0.662651</td>\n      <td>-0.519011</td>\n      <td>-0.474193</td>\n      <td>-0.560135</td>\n      <td>-0.349727</td>\n      <td>-0.383549</td>\n      <td>-1.052367</td>\n      <td>1.599938</td>\n      <td>0.444167</td>\n      <td>0.601678</td>\n    </tr>\n    <tr>\n      <th>182</th>\n      <td>3</td>\n      <td>2018-07-26</td>\n      <td>5.000000</td>\n      <td>0.0</td>\n      <td>0.000000</td>\n      <td>4.000000</td>\n      <td>0.0</td>\n      <td>0.0</td>\n      <td>1.0</td>\n      <td>4.000000</td>\n      <td>...</td>\n      <td>-0.662651</td>\n      <td>-0.010984</td>\n      <td>-0.474193</td>\n      <td>-0.560135</td>\n      <td>2.238255</td>\n      <td>0.298725</td>\n      <td>-1.052367</td>\n      <td>2.396029</td>\n      <td>-2.244148</td>\n      <td>-0.618819</td>\n    </tr>\n    <tr>\n      <th>183</th>\n      <td>4</td>\n      <td>2018-07-27</td>\n      <td>10.000000</td>\n      <td>17.0</td>\n      <td>1.000000</td>\n      <td>5.000000</td>\n      <td>0.0</td>\n      <td>0.0</td>\n      <td>0.0</td>\n      <td>4.000000</td>\n      <td>...</td>\n      <td>1.526464</td>\n      <td>0.497042</td>\n      <td>-0.474193</td>\n      <td>-0.560135</td>\n      <td>-0.349727</td>\n      <td>0.298725</td>\n      <td>1.191874</td>\n      <td>1.224858</td>\n      <td>0.423564</td>\n      <td>-0.167402</td>\n    </tr>\n    <tr>\n      <th>184</th>\n      <td>5</td>\n      <td>2018-07-28</td>\n      <td>16.000000</td>\n      <td>7.0</td>\n      <td>1.000000</td>\n      <td>6.000000</td>\n      <td>1.0</td>\n      <td>1.0</td>\n      <td>0.0</td>\n      <td>10.000000</td>\n      <td>...</td>\n      <td>1.526464</td>\n      <td>1.005068</td>\n      <td>0.987903</td>\n      <td>1.358845</td>\n      <td>-0.349727</td>\n      <td>2.345547</td>\n      <td>0.630814</td>\n      <td>0.933978</td>\n      <td>-0.995529</td>\n      <td>1.136691</td>\n    </tr>\n  </tbody>\n</table>\n<p>185 rows × 26 columns</p>\n</div>"
     },
     "execution_count": 14,
     "metadata": {},
     "output_type": "execute_result"
    }
   ],
   "source": [
    "for col in ['TNOs', 'OfficerDosage', 'isWeekend',\n",
    "       'Day of Week', 'Drugs', 'Robbery', 'SexualOffences', 'Theft', 'VAP',\n",
    "       'Temp', 'Humid', 'Wind']:\n",
    "    new_name = \"z_\" + col\n",
    "    combined[new_name] = zscore(combined[col])\n",
    "\n",
    "combined"
   ],
   "metadata": {
    "collapsed": false,
    "pycharm": {
     "name": "#%%\n"
    }
   }
  },
  {
   "cell_type": "code",
   "execution_count": 19,
   "outputs": [],
   "source": [
    "feats = [\"OfficerDosage\",'TNOs', 'Drugs', 'Robbery', 'SexualOffences', 'Theft', 'VAP',\n",
    "       'Temp', 'Humid', 'Wind']"
   ],
   "metadata": {
    "collapsed": false,
    "pycharm": {
     "name": "#%%\n"
    }
   }
  },
  {
   "cell_type": "code",
   "execution_count": 20,
   "outputs": [],
   "source": [
    "from statsmodels.tsa.stattools import kpss\n",
    "def kpss_test(series, **kw):\n",
    "    statistic, p_value, n_lags, critical_values = kpss(series, **kw)\n",
    "    # Format Output\n",
    "    print(f'KPSS Statistic: {statistic}')\n",
    "    print(f'p-value: {p_value}')\n",
    "    print(f'num lags: {n_lags}')\n",
    "    print('Critial Values:')\n",
    "    for key, value in critical_values.items():\n",
    "        print(f'   {key} : {value}')\n",
    "    print(f'Result: The series is {\"not \" if p_value < 0.05 else \"\"}stationary')"
   ],
   "metadata": {
    "collapsed": false,
    "pycharm": {
     "name": "#%%\n"
    }
   }
  },
  {
   "cell_type": "code",
   "execution_count": 21,
   "outputs": [
    {
     "name": "stdout",
     "output_type": "stream",
     "text": [
      "OfficerDosage\n",
      "KPSS Statistic: 0.09378097013771428\n",
      "p-value: 0.1\n",
      "num lags: 14\n",
      "Critial Values:\n",
      "   10% : 0.347\n",
      "   5% : 0.463\n",
      "   2.5% : 0.574\n",
      "   1% : 0.739\n",
      "Result: The series is stationary\n",
      "TNOs\n",
      "KPSS Statistic: 0.583988481171663\n",
      "p-value: 0.02409195625712154\n",
      "num lags: 14\n",
      "Critial Values:\n",
      "   10% : 0.347\n",
      "   5% : 0.463\n",
      "   2.5% : 0.574\n",
      "   1% : 0.739\n",
      "Result: The series is not stationary\n",
      "Drugs\n",
      "KPSS Statistic: 0.3946578508328111\n",
      "p-value: 0.07945782291689178\n",
      "num lags: 14\n",
      "Critial Values:\n",
      "   10% : 0.347\n",
      "   5% : 0.463\n",
      "   2.5% : 0.574\n",
      "   1% : 0.739\n",
      "Result: The series is stationary\n",
      "Robbery\n",
      "KPSS Statistic: 0.12363623461912183\n",
      "p-value: 0.1\n",
      "num lags: 14\n",
      "Critial Values:\n",
      "   10% : 0.347\n",
      "   5% : 0.463\n",
      "   2.5% : 0.574\n",
      "   1% : 0.739\n",
      "Result: The series is stationary\n",
      "SexualOffences\n",
      "KPSS Statistic: 0.17184998577871624\n",
      "p-value: 0.1\n",
      "num lags: 14\n",
      "Critial Values:\n",
      "   10% : 0.347\n",
      "   5% : 0.463\n",
      "   2.5% : 0.574\n",
      "   1% : 0.739\n",
      "Result: The series is stationary\n",
      "Theft\n",
      "KPSS Statistic: 0.1397951535757444\n",
      "p-value: 0.1\n",
      "num lags: 14\n",
      "Critial Values:\n",
      "   10% : 0.347\n",
      "   5% : 0.463\n",
      "   2.5% : 0.574\n",
      "   1% : 0.739\n",
      "Result: The series is stationary\n",
      "VAP\n",
      "KPSS Statistic: 0.39146938475131593\n",
      "p-value: 0.08083216174512245\n",
      "num lags: 14\n",
      "Critial Values:\n",
      "   10% : 0.347\n",
      "   5% : 0.463\n",
      "   2.5% : 0.574\n",
      "   1% : 0.739\n",
      "Result: The series is stationary\n",
      "Temp\n",
      "KPSS Statistic: 1.2595374146535365\n",
      "p-value: 0.01\n",
      "num lags: 14\n",
      "Critial Values:\n",
      "   10% : 0.347\n",
      "   5% : 0.463\n",
      "   2.5% : 0.574\n",
      "   1% : 0.739\n",
      "Result: The series is not stationary\n",
      "Humid\n",
      "KPSS Statistic: 0.6141544299592172\n",
      "p-value: 0.021349597276434797\n",
      "num lags: 14\n",
      "Critial Values:\n",
      "   10% : 0.347\n",
      "   5% : 0.463\n",
      "   2.5% : 0.574\n",
      "   1% : 0.739\n",
      "Result: The series is not stationary\n",
      "Wind\n",
      "KPSS Statistic: 0.24838873257109334\n",
      "p-value: 0.1\n",
      "num lags: 14\n",
      "Critial Values:\n",
      "   10% : 0.347\n",
      "   5% : 0.463\n",
      "   2.5% : 0.574\n",
      "   1% : 0.739\n",
      "Result: The series is stationary\n"
     ]
    },
    {
     "name": "stderr",
     "output_type": "stream",
     "text": [
      "c:\\users\\admin\\dropbox\\data projects\\nte_hotspot_policing\\venv\\lib\\site-packages\\statsmodels\\tsa\\stattools.py:1875: FutureWarning: The behavior of using nlags=None will change in release 0.13.Currently nlags=None is the same as nlags=\"legacy\", and so a sample-size lag length is used. After the next release, the default will change to be the same as nlags=\"auto\" which uses an automatic lag length selection method. To silence this warning, either use \"auto\" or \"legacy\"\n",
      "  warnings.warn(msg, FutureWarning)\n",
      "c:\\users\\admin\\dropbox\\data projects\\nte_hotspot_policing\\venv\\lib\\site-packages\\statsmodels\\tsa\\stattools.py:1910: InterpolationWarning: The test statistic is outside of the range of p-values available in the\n",
      "look-up table. The actual p-value is greater than the p-value returned.\n",
      "\n",
      "  warnings.warn(\n",
      "c:\\users\\admin\\dropbox\\data projects\\nte_hotspot_policing\\venv\\lib\\site-packages\\statsmodels\\tsa\\stattools.py:1910: InterpolationWarning: The test statistic is outside of the range of p-values available in the\n",
      "look-up table. The actual p-value is greater than the p-value returned.\n",
      "\n",
      "  warnings.warn(\n",
      "c:\\users\\admin\\dropbox\\data projects\\nte_hotspot_policing\\venv\\lib\\site-packages\\statsmodels\\tsa\\stattools.py:1910: InterpolationWarning: The test statistic is outside of the range of p-values available in the\n",
      "look-up table. The actual p-value is greater than the p-value returned.\n",
      "\n",
      "  warnings.warn(\n",
      "c:\\users\\admin\\dropbox\\data projects\\nte_hotspot_policing\\venv\\lib\\site-packages\\statsmodels\\tsa\\stattools.py:1910: InterpolationWarning: The test statistic is outside of the range of p-values available in the\n",
      "look-up table. The actual p-value is greater than the p-value returned.\n",
      "\n",
      "  warnings.warn(\n",
      "c:\\users\\admin\\dropbox\\data projects\\nte_hotspot_policing\\venv\\lib\\site-packages\\statsmodels\\tsa\\stattools.py:1906: InterpolationWarning: The test statistic is outside of the range of p-values available in the\n",
      "look-up table. The actual p-value is smaller than the p-value returned.\n",
      "\n",
      "  warnings.warn(\n",
      "c:\\users\\admin\\dropbox\\data projects\\nte_hotspot_policing\\venv\\lib\\site-packages\\statsmodels\\tsa\\stattools.py:1910: InterpolationWarning: The test statistic is outside of the range of p-values available in the\n",
      "look-up table. The actual p-value is greater than the p-value returned.\n",
      "\n",
      "  warnings.warn(\n"
     ]
    }
   ],
   "source": [
    "for feat in feats:\n",
    "    print(feat)\n",
    "    kpss_test(combined[feat])"
   ],
   "metadata": {
    "collapsed": false,
    "pycharm": {
     "name": "#%%\n"
    }
   }
  },
  {
   "cell_type": "markdown",
   "source": [
    "This looks a lot better - most of our features are appropriately not stationary.\n"
   ],
   "metadata": {
    "collapsed": false,
    "pycharm": {
     "name": "#%% md\n"
    }
   }
  },
  {
   "cell_type": "code",
   "execution_count": 80,
   "outputs": [],
   "source": [],
   "metadata": {
    "collapsed": false,
    "pycharm": {
     "name": "#%%\n"
    }
   }
  },
  {
   "cell_type": "code",
   "execution_count": 35,
   "outputs": [
    {
     "data": {
      "text/plain": "                      TNOs_fit           Drugs_fit         Robbery_fit  \\\nOrder                (5, 1, 1)           (0, 0, 0)           (0, 0, 0)   \nSeasonOrder       (0, 0, 0, 0)        (0, 0, 0, 0)        (0, 0, 0, 0)   \nAIC                1089.037665          388.454831          287.843599   \nBIC                1111.542215          394.895543          294.284311   \nMSE                  19.897872            0.467787            0.271556   \nRMSE         4.460703108476523  0.6839493443410436  0.5211102380538392   \n\n              SexualOffences_fit          Theft_fit             VAP_fit  \nOrder                  (0, 0, 0)          (5, 0, 0)           (0, 0, 0)  \nSeasonOrder         (0, 0, 0, 0)       (0, 0, 0, 0)        (0, 0, 0, 0)  \nAIC                   177.182218         907.717696          742.840274  \nBIC                    183.62293         930.260187          749.280986  \nMSE                     0.149306           7.330848            3.176736  \nRMSE         0.38640142704133007  2.707553882834275  1.7823399379954128  ",
      "text/html": "<div>\n<style scoped>\n    .dataframe tbody tr th:only-of-type {\n        vertical-align: middle;\n    }\n\n    .dataframe tbody tr th {\n        vertical-align: top;\n    }\n\n    .dataframe thead th {\n        text-align: right;\n    }\n</style>\n<table border=\"1\" class=\"dataframe\">\n  <thead>\n    <tr style=\"text-align: right;\">\n      <th></th>\n      <th>TNOs_fit</th>\n      <th>Drugs_fit</th>\n      <th>Robbery_fit</th>\n      <th>SexualOffences_fit</th>\n      <th>Theft_fit</th>\n      <th>VAP_fit</th>\n    </tr>\n  </thead>\n  <tbody>\n    <tr>\n      <th>Order</th>\n      <td>(5, 1, 1)</td>\n      <td>(0, 0, 0)</td>\n      <td>(0, 0, 0)</td>\n      <td>(0, 0, 0)</td>\n      <td>(5, 0, 0)</td>\n      <td>(0, 0, 0)</td>\n    </tr>\n    <tr>\n      <th>SeasonOrder</th>\n      <td>(0, 0, 0, 0)</td>\n      <td>(0, 0, 0, 0)</td>\n      <td>(0, 0, 0, 0)</td>\n      <td>(0, 0, 0, 0)</td>\n      <td>(0, 0, 0, 0)</td>\n      <td>(0, 0, 0, 0)</td>\n    </tr>\n    <tr>\n      <th>AIC</th>\n      <td>1089.037665</td>\n      <td>388.454831</td>\n      <td>287.843599</td>\n      <td>177.182218</td>\n      <td>907.717696</td>\n      <td>742.840274</td>\n    </tr>\n    <tr>\n      <th>BIC</th>\n      <td>1111.542215</td>\n      <td>394.895543</td>\n      <td>294.284311</td>\n      <td>183.62293</td>\n      <td>930.260187</td>\n      <td>749.280986</td>\n    </tr>\n    <tr>\n      <th>MSE</th>\n      <td>19.897872</td>\n      <td>0.467787</td>\n      <td>0.271556</td>\n      <td>0.149306</td>\n      <td>7.330848</td>\n      <td>3.176736</td>\n    </tr>\n    <tr>\n      <th>RMSE</th>\n      <td>4.460703108476523</td>\n      <td>0.6839493443410436</td>\n      <td>0.5211102380538392</td>\n      <td>0.38640142704133007</td>\n      <td>2.707553882834275</td>\n      <td>1.7823399379954128</td>\n    </tr>\n  </tbody>\n</table>\n</div>"
     },
     "execution_count": 35,
     "metadata": {},
     "output_type": "execute_result"
    }
   ],
   "source": [
    "result_df = pd.DataFrame()\n",
    "crimes = ['TNOs', 'Drugs', 'Robbery', 'SexualOffences', 'Theft', 'VAP']\n",
    "\n",
    "\n",
    "for crime in crimes:\n",
    "    auto = pm.auto_arima(combined[crime])\n",
    "    predictions = auto.predict_in_sample()\n",
    "    mse = mean_squared_error(combined[crime], predictions)\n",
    "    result_df.loc[\"Order\", crime+\"_fit\"] = str(auto.to_dict()['order'])\n",
    "    result_df.loc[\"SeasonOrder\", crime+\"_fit\"] = str(auto.to_dict()['seasonal_order'])\n",
    "    result_df.loc[\"AIC\", crime+\"_fit\"] = auto.aic()\n",
    "    result_df.loc[\"BIC\", crime+\"_fit\"] = auto.bic()\n",
    "    result_df.loc[\"MSE\", crime+\"_fit\"] = mse\n",
    "    result_df.loc[\"RMSE\", crime+\"_fit\"] = str(np.sqrt(mse))\n",
    "\n",
    "result_df"
   ],
   "metadata": {
    "collapsed": false,
    "pycharm": {
     "name": "#%%\n"
    }
   }
  },
  {
   "cell_type": "code",
   "execution_count": 85,
   "outputs": [
    {
     "data": {
      "text/plain": "                      TNOs_fit           Drugs_fit         Robbery_fit  \\\nOrder                (2, 1, 1)           (0, 0, 0)           (0, 0, 0)   \nSeasonOrder       (1, 0, 2, 7)        (0, 0, 0, 7)        (2, 0, 1, 7)   \nAIC                1051.175975          388.454831          284.866755   \nBIC                1076.895461          394.895543          300.968534   \nMSE                  16.043317            0.467787            0.259253   \nRMSE         4.005410986965652  0.6839493443410436  0.5091687192114839   \n\n              SexualOffences_fit           Theft_fit             VAP_fit  \nOrder                  (0, 0, 0)           (0, 0, 0)           (2, 0, 2)  \nSeasonOrder         (0, 0, 0, 7)        (2, 0, 2, 7)        (2, 0, 2, 7)  \nAIC                   177.182218          871.897256          738.335512  \nBIC                    183.62293          891.219391           770.53907  \nMSE                     0.149306            6.125175            2.820435  \nRMSE         0.38640142704133007  2.4749090362578396  1.6794149832294623  ",
      "text/html": "<div>\n<style scoped>\n    .dataframe tbody tr th:only-of-type {\n        vertical-align: middle;\n    }\n\n    .dataframe tbody tr th {\n        vertical-align: top;\n    }\n\n    .dataframe thead th {\n        text-align: right;\n    }\n</style>\n<table border=\"1\" class=\"dataframe\">\n  <thead>\n    <tr style=\"text-align: right;\">\n      <th></th>\n      <th>TNOs_fit</th>\n      <th>Drugs_fit</th>\n      <th>Robbery_fit</th>\n      <th>SexualOffences_fit</th>\n      <th>Theft_fit</th>\n      <th>VAP_fit</th>\n    </tr>\n  </thead>\n  <tbody>\n    <tr>\n      <th>Order</th>\n      <td>(2, 1, 1)</td>\n      <td>(0, 0, 0)</td>\n      <td>(0, 0, 0)</td>\n      <td>(0, 0, 0)</td>\n      <td>(0, 0, 0)</td>\n      <td>(2, 0, 2)</td>\n    </tr>\n    <tr>\n      <th>SeasonOrder</th>\n      <td>(1, 0, 2, 7)</td>\n      <td>(0, 0, 0, 7)</td>\n      <td>(2, 0, 1, 7)</td>\n      <td>(0, 0, 0, 7)</td>\n      <td>(2, 0, 2, 7)</td>\n      <td>(2, 0, 2, 7)</td>\n    </tr>\n    <tr>\n      <th>AIC</th>\n      <td>1051.175975</td>\n      <td>388.454831</td>\n      <td>284.866755</td>\n      <td>177.182218</td>\n      <td>871.897256</td>\n      <td>738.335512</td>\n    </tr>\n    <tr>\n      <th>BIC</th>\n      <td>1076.895461</td>\n      <td>394.895543</td>\n      <td>300.968534</td>\n      <td>183.62293</td>\n      <td>891.219391</td>\n      <td>770.53907</td>\n    </tr>\n    <tr>\n      <th>MSE</th>\n      <td>16.043317</td>\n      <td>0.467787</td>\n      <td>0.259253</td>\n      <td>0.149306</td>\n      <td>6.125175</td>\n      <td>2.820435</td>\n    </tr>\n    <tr>\n      <th>RMSE</th>\n      <td>4.005410986965652</td>\n      <td>0.6839493443410436</td>\n      <td>0.5091687192114839</td>\n      <td>0.38640142704133007</td>\n      <td>2.4749090362578396</td>\n      <td>1.6794149832294623</td>\n    </tr>\n  </tbody>\n</table>\n</div>"
     },
     "execution_count": 85,
     "metadata": {},
     "output_type": "execute_result"
    }
   ],
   "source": [
    "result_df = pd.DataFrame()\n",
    "crimes = ['TNOs', 'Drugs', 'Robbery', 'SexualOffences', 'Theft', 'VAP']\n",
    "\n",
    "#set m to 7\n",
    "for crime in crimes:\n",
    "    auto = pm.auto_arima(combined[crime], m=7)\n",
    "    predictions = auto.predict_in_sample()\n",
    "    mse = mean_squared_error(combined[crime], predictions)\n",
    "    result_df.loc[\"Order\", crime+\"_fit\"] = str(auto.to_dict()['order'])\n",
    "    result_df.loc[\"SeasonOrder\", crime+\"_fit\"] = str(auto.to_dict()['seasonal_order'])\n",
    "    result_df.loc[\"AIC\", crime+\"_fit\"] = auto.aic()\n",
    "    result_df.loc[\"BIC\", crime+\"_fit\"] = auto.bic()\n",
    "    result_df.loc[\"MSE\", crime+\"_fit\"] = mse\n",
    "    result_df.loc[\"RMSE\", crime+\"_fit\"] = str(np.sqrt(mse))\n",
    "\n",
    "result_df"
   ],
   "metadata": {
    "collapsed": false,
    "pycharm": {
     "name": "#%%\n"
    }
   }
  },
  {
   "cell_type": "markdown",
   "source": [
    "You have to explicitly set you seasonal term!  THis kind of changes everything.\n",
    "\n"
   ],
   "metadata": {
    "collapsed": false,
    "pycharm": {
     "name": "#%% md\n"
    }
   }
  },
  {
   "cell_type": "code",
   "execution_count": 90,
   "outputs": [],
   "source": [
    "def calc_auto_m(patsy_string):\n",
    "    \"\"\"takes a Patsy string in the given format, returns a dataframe for all crime types\"\"\"\n",
    "\n",
    "    result_df = pd.DataFrame()\n",
    "    crimes = ['TNOs', 'Drugs', 'Robbery', 'SexualOffences', 'Theft', 'VAP']\n",
    "    for crime in crimes:\n",
    "        string_arima = crime + \" ~ 0 + \" + patsy_string\n",
    "        y, X = patsy.dmatrices(string_arima, data=combined, return_type=\"dataframe\")\n",
    "        auto = pm.auto_arima(y,exogenous=X, m=7)\n",
    "        #result_df[crime+\"_params\"] = auto.to_dict()['params'].round(3)\n",
    "        try:\n",
    "            X = X.drop(columns=\"C(Saturday)[False]\")\n",
    "        except:\n",
    "            pass\n",
    "        try:\n",
    "            X = X.drop(columns=\"C(Friday)[False]\")\n",
    "        except:\n",
    "            pass\n",
    "        for value in auto.to_dict()['params'].keys():\n",
    "            result_df.loc[value, crime+\"_params\"] = auto.to_dict()['params'][value]\n",
    "        result_df[crime+\"_p\"] = auto.to_dict()['pvalues'].round(3)\n",
    "        predictions = auto.predict_in_sample(exogenous=X)\n",
    "        mse = mean_squared_error(y, predictions)\n",
    "        result_df.loc[\"Order\", crime+\"_fit\"] = str(auto.to_dict()['order'])\n",
    "        result_df.loc[\"SeasonOrder\", crime+\"_fit\"] = str(auto.to_dict()['seasonal_order'])\n",
    "        result_df.loc[\"AIC\", crime+\"_fit\"] = auto.aic()\n",
    "        result_df.loc[\"BIC\", crime+\"_fit\"] = auto.bic()\n",
    "        result_df.loc[\"MSE\", crime+\"_fit\"] = mse\n",
    "        result_df.loc[\"RMSE\", crime+\"_fit\"] = str(np.sqrt(mse))\n",
    "\n",
    "    return result_df"
   ],
   "metadata": {
    "collapsed": false,
    "pycharm": {
     "name": "#%%\n"
    }
   }
  },
  {
   "cell_type": "code",
   "execution_count": 93,
   "outputs": [
    {
     "data": {
      "text/plain": "                                  TNOs_params  TNOs_p            TNOs_fit  \\\nC(Saturday)[0.0]                     4.062390   0.000                 NaN   \nC(Saturday)[1.0]                    12.805921   0.000                 NaN   \nC(Friday)[T.1.0]                     1.223133   0.349                 NaN   \nC(Sunday)[T.1.0]                     0.153829   0.888                 NaN   \nOfficerDosage                        0.342609   0.012                 NaN   \nOfficerDosage:C(Saturday)[T.1.0]    -0.448244   0.039                 NaN   \nTemp                                 0.071129   0.093                 NaN   \nsigma2                              12.487494   0.000                 NaN   \nOrder                                     NaN     NaN           (0, 0, 0)   \nSeasonOrder                               NaN     NaN        (0, 0, 0, 7)   \nAIC                                       NaN     NaN         1008.082373   \nBIC                                       NaN     NaN         1033.845219   \nMSE                                       NaN     NaN           12.487528   \nRMSE                                      NaN     NaN  3.5337696009041566   \n\n                                  Drugs_params  Drugs_p           Drugs_fit  \\\nC(Saturday)[0.0]                      0.123185    0.485                 NaN   \nC(Saturday)[1.0]                     -0.067816    0.835                 NaN   \nC(Friday)[T.1.0]                     -0.015200    0.972                 NaN   \nC(Sunday)[T.1.0]                     -0.060399    0.688                 NaN   \nOfficerDosage                        -0.003951    0.941                 NaN   \nOfficerDosage:C(Saturday)[T.1.0]      0.074295    0.318                 NaN   \nTemp                                  0.016348    0.095                 NaN   \nsigma2                                0.449707    0.000                 NaN   \nOrder                                      NaN      NaN           (0, 0, 0)   \nSeasonOrder                                NaN      NaN        (0, 0, 0, 7)   \nAIC                                        NaN      NaN          393.166073   \nBIC                                        NaN      NaN           418.92892   \nMSE                                        NaN      NaN            0.449715   \nRMSE                                       NaN      NaN  0.6706078311582372   \n\n                                  Robbery_params  Robbery_p  \\\nC(Saturday)[0.0]                        0.226462      0.043   \nC(Saturday)[1.0]                        0.729005      0.000   \nC(Friday)[T.1.0]                       -0.072871      0.694   \nC(Sunday)[T.1.0]                       -0.126503      0.471   \nOfficerDosage                           0.048377      0.002   \nOfficerDosage:C(Saturday)[T.1.0]       -0.068120      0.046   \nTemp                                   -0.001973      0.725   \nsigma2                                  0.230342      0.000   \nOrder                                        NaN        NaN   \nSeasonOrder                                  NaN        NaN   \nAIC                                          NaN        NaN   \nBIC                                          NaN        NaN   \nMSE                                          NaN        NaN   \nRMSE                                         NaN        NaN   \n\n                                         Robbery_fit  SexualOffences_params  \\\nC(Saturday)[0.0]                                 NaN               0.023394   \nC(Saturday)[1.0]                                 NaN              -0.111712   \nC(Friday)[T.1.0]                                 NaN              -0.041079   \nC(Sunday)[T.1.0]                                 NaN               0.143052   \nOfficerDosage                                    NaN               0.007855   \nOfficerDosage:C(Saturday)[T.1.0]                 NaN               0.073734   \nTemp                                             NaN               0.005067   \nsigma2                                           NaN               0.136524   \nOrder                                      (0, 0, 0)                    NaN   \nSeasonOrder                             (0, 0, 0, 7)                    NaN   \nAIC                                       269.398537                    NaN   \nBIC                                       295.161383                    NaN   \nMSE                                          0.23035                    NaN   \nRMSE                              0.4799479473618996                    NaN   \n\n                                  SexualOffences_p   SexualOffences_fit  \\\nC(Saturday)[0.0]                             0.842                  NaN   \nC(Saturday)[1.0]                             0.731                  NaN   \nC(Friday)[T.1.0]                             0.925                  NaN   \nC(Sunday)[T.1.0]                             0.097                  NaN   \nOfficerDosage                                0.867                  NaN   \nOfficerDosage:C(Saturday)[T.1.0]             0.281                  NaN   \nTemp                                         0.252                  NaN   \nsigma2                                       0.000                  NaN   \nOrder                                          NaN            (0, 0, 0)   \nSeasonOrder                                    NaN         (0, 0, 0, 7)   \nAIC                                            NaN           172.634324   \nBIC                                            NaN            198.39717   \nMSE                                            NaN             0.136531   \nRMSE                                           NaN  0.36950074440756864   \n\n                                  Theft_params  Theft_p           Theft_fit  \\\nC(Saturday)[0.0]                      2.009320    0.000                 NaN   \nC(Saturday)[1.0]                      7.860544    0.000                 NaN   \nC(Friday)[T.1.0]                      1.128556    0.177                 NaN   \nC(Sunday)[T.1.0]                      0.443510    0.526                 NaN   \nOfficerDosage                         0.171964    0.085                 NaN   \nOfficerDosage:C(Saturday)[T.1.0]     -0.305141    0.028                 NaN   \nTemp                                 -0.007954    0.757                 NaN   \nsigma2                                4.855435    0.000                 NaN   \nOrder                                      NaN      NaN           (0, 0, 0)   \nSeasonOrder                                NaN      NaN        (0, 0, 0, 7)   \nAIC                                        NaN      NaN          833.326382   \nBIC                                        NaN      NaN          859.089229   \nMSE                                        NaN      NaN            4.855458   \nRMSE                                       NaN      NaN  2.2035103215334026   \n\n                                  VAP_params  VAP_p             VAP_fit  \nC(Saturday)[0.0]                    1.097622  0.003                 NaN  \nC(Saturday)[1.0]                    2.772370  0.000                 NaN  \nC(Friday)[T.1.0]                    0.064139  0.932                 NaN  \nC(Sunday)[T.1.0]                   -0.064105  0.882                 NaN  \nOfficerDosage                       0.101743  0.139                 NaN  \nOfficerDosage:C(Saturday)[T.1.0]   -0.094335  0.470                 NaN  \nTemp                                0.032549  0.104                 NaN  \nsigma2                              2.701535  0.000                 NaN  \nOrder                                    NaN    NaN           (0, 0, 0)  \nSeasonOrder                              NaN    NaN        (0, 0, 0, 7)  \nAIC                                      NaN    NaN           724.86596  \nBIC                                      NaN    NaN          750.628806  \nMSE                                      NaN    NaN            2.701564  \nRMSE                                     NaN    NaN  1.6436434808907232  ",
      "text/html": "<div>\n<style scoped>\n    .dataframe tbody tr th:only-of-type {\n        vertical-align: middle;\n    }\n\n    .dataframe tbody tr th {\n        vertical-align: top;\n    }\n\n    .dataframe thead th {\n        text-align: right;\n    }\n</style>\n<table border=\"1\" class=\"dataframe\">\n  <thead>\n    <tr style=\"text-align: right;\">\n      <th></th>\n      <th>TNOs_params</th>\n      <th>TNOs_p</th>\n      <th>TNOs_fit</th>\n      <th>Drugs_params</th>\n      <th>Drugs_p</th>\n      <th>Drugs_fit</th>\n      <th>Robbery_params</th>\n      <th>Robbery_p</th>\n      <th>Robbery_fit</th>\n      <th>SexualOffences_params</th>\n      <th>SexualOffences_p</th>\n      <th>SexualOffences_fit</th>\n      <th>Theft_params</th>\n      <th>Theft_p</th>\n      <th>Theft_fit</th>\n      <th>VAP_params</th>\n      <th>VAP_p</th>\n      <th>VAP_fit</th>\n    </tr>\n  </thead>\n  <tbody>\n    <tr>\n      <th>C(Saturday)[0.0]</th>\n      <td>4.062390</td>\n      <td>0.000</td>\n      <td>NaN</td>\n      <td>0.123185</td>\n      <td>0.485</td>\n      <td>NaN</td>\n      <td>0.226462</td>\n      <td>0.043</td>\n      <td>NaN</td>\n      <td>0.023394</td>\n      <td>0.842</td>\n      <td>NaN</td>\n      <td>2.009320</td>\n      <td>0.000</td>\n      <td>NaN</td>\n      <td>1.097622</td>\n      <td>0.003</td>\n      <td>NaN</td>\n    </tr>\n    <tr>\n      <th>C(Saturday)[1.0]</th>\n      <td>12.805921</td>\n      <td>0.000</td>\n      <td>NaN</td>\n      <td>-0.067816</td>\n      <td>0.835</td>\n      <td>NaN</td>\n      <td>0.729005</td>\n      <td>0.000</td>\n      <td>NaN</td>\n      <td>-0.111712</td>\n      <td>0.731</td>\n      <td>NaN</td>\n      <td>7.860544</td>\n      <td>0.000</td>\n      <td>NaN</td>\n      <td>2.772370</td>\n      <td>0.000</td>\n      <td>NaN</td>\n    </tr>\n    <tr>\n      <th>C(Friday)[T.1.0]</th>\n      <td>1.223133</td>\n      <td>0.349</td>\n      <td>NaN</td>\n      <td>-0.015200</td>\n      <td>0.972</td>\n      <td>NaN</td>\n      <td>-0.072871</td>\n      <td>0.694</td>\n      <td>NaN</td>\n      <td>-0.041079</td>\n      <td>0.925</td>\n      <td>NaN</td>\n      <td>1.128556</td>\n      <td>0.177</td>\n      <td>NaN</td>\n      <td>0.064139</td>\n      <td>0.932</td>\n      <td>NaN</td>\n    </tr>\n    <tr>\n      <th>C(Sunday)[T.1.0]</th>\n      <td>0.153829</td>\n      <td>0.888</td>\n      <td>NaN</td>\n      <td>-0.060399</td>\n      <td>0.688</td>\n      <td>NaN</td>\n      <td>-0.126503</td>\n      <td>0.471</td>\n      <td>NaN</td>\n      <td>0.143052</td>\n      <td>0.097</td>\n      <td>NaN</td>\n      <td>0.443510</td>\n      <td>0.526</td>\n      <td>NaN</td>\n      <td>-0.064105</td>\n      <td>0.882</td>\n      <td>NaN</td>\n    </tr>\n    <tr>\n      <th>OfficerDosage</th>\n      <td>0.342609</td>\n      <td>0.012</td>\n      <td>NaN</td>\n      <td>-0.003951</td>\n      <td>0.941</td>\n      <td>NaN</td>\n      <td>0.048377</td>\n      <td>0.002</td>\n      <td>NaN</td>\n      <td>0.007855</td>\n      <td>0.867</td>\n      <td>NaN</td>\n      <td>0.171964</td>\n      <td>0.085</td>\n      <td>NaN</td>\n      <td>0.101743</td>\n      <td>0.139</td>\n      <td>NaN</td>\n    </tr>\n    <tr>\n      <th>OfficerDosage:C(Saturday)[T.1.0]</th>\n      <td>-0.448244</td>\n      <td>0.039</td>\n      <td>NaN</td>\n      <td>0.074295</td>\n      <td>0.318</td>\n      <td>NaN</td>\n      <td>-0.068120</td>\n      <td>0.046</td>\n      <td>NaN</td>\n      <td>0.073734</td>\n      <td>0.281</td>\n      <td>NaN</td>\n      <td>-0.305141</td>\n      <td>0.028</td>\n      <td>NaN</td>\n      <td>-0.094335</td>\n      <td>0.470</td>\n      <td>NaN</td>\n    </tr>\n    <tr>\n      <th>Temp</th>\n      <td>0.071129</td>\n      <td>0.093</td>\n      <td>NaN</td>\n      <td>0.016348</td>\n      <td>0.095</td>\n      <td>NaN</td>\n      <td>-0.001973</td>\n      <td>0.725</td>\n      <td>NaN</td>\n      <td>0.005067</td>\n      <td>0.252</td>\n      <td>NaN</td>\n      <td>-0.007954</td>\n      <td>0.757</td>\n      <td>NaN</td>\n      <td>0.032549</td>\n      <td>0.104</td>\n      <td>NaN</td>\n    </tr>\n    <tr>\n      <th>sigma2</th>\n      <td>12.487494</td>\n      <td>0.000</td>\n      <td>NaN</td>\n      <td>0.449707</td>\n      <td>0.000</td>\n      <td>NaN</td>\n      <td>0.230342</td>\n      <td>0.000</td>\n      <td>NaN</td>\n      <td>0.136524</td>\n      <td>0.000</td>\n      <td>NaN</td>\n      <td>4.855435</td>\n      <td>0.000</td>\n      <td>NaN</td>\n      <td>2.701535</td>\n      <td>0.000</td>\n      <td>NaN</td>\n    </tr>\n    <tr>\n      <th>Order</th>\n      <td>NaN</td>\n      <td>NaN</td>\n      <td>(0, 0, 0)</td>\n      <td>NaN</td>\n      <td>NaN</td>\n      <td>(0, 0, 0)</td>\n      <td>NaN</td>\n      <td>NaN</td>\n      <td>(0, 0, 0)</td>\n      <td>NaN</td>\n      <td>NaN</td>\n      <td>(0, 0, 0)</td>\n      <td>NaN</td>\n      <td>NaN</td>\n      <td>(0, 0, 0)</td>\n      <td>NaN</td>\n      <td>NaN</td>\n      <td>(0, 0, 0)</td>\n    </tr>\n    <tr>\n      <th>SeasonOrder</th>\n      <td>NaN</td>\n      <td>NaN</td>\n      <td>(0, 0, 0, 7)</td>\n      <td>NaN</td>\n      <td>NaN</td>\n      <td>(0, 0, 0, 7)</td>\n      <td>NaN</td>\n      <td>NaN</td>\n      <td>(0, 0, 0, 7)</td>\n      <td>NaN</td>\n      <td>NaN</td>\n      <td>(0, 0, 0, 7)</td>\n      <td>NaN</td>\n      <td>NaN</td>\n      <td>(0, 0, 0, 7)</td>\n      <td>NaN</td>\n      <td>NaN</td>\n      <td>(0, 0, 0, 7)</td>\n    </tr>\n    <tr>\n      <th>AIC</th>\n      <td>NaN</td>\n      <td>NaN</td>\n      <td>1008.082373</td>\n      <td>NaN</td>\n      <td>NaN</td>\n      <td>393.166073</td>\n      <td>NaN</td>\n      <td>NaN</td>\n      <td>269.398537</td>\n      <td>NaN</td>\n      <td>NaN</td>\n      <td>172.634324</td>\n      <td>NaN</td>\n      <td>NaN</td>\n      <td>833.326382</td>\n      <td>NaN</td>\n      <td>NaN</td>\n      <td>724.86596</td>\n    </tr>\n    <tr>\n      <th>BIC</th>\n      <td>NaN</td>\n      <td>NaN</td>\n      <td>1033.845219</td>\n      <td>NaN</td>\n      <td>NaN</td>\n      <td>418.92892</td>\n      <td>NaN</td>\n      <td>NaN</td>\n      <td>295.161383</td>\n      <td>NaN</td>\n      <td>NaN</td>\n      <td>198.39717</td>\n      <td>NaN</td>\n      <td>NaN</td>\n      <td>859.089229</td>\n      <td>NaN</td>\n      <td>NaN</td>\n      <td>750.628806</td>\n    </tr>\n    <tr>\n      <th>MSE</th>\n      <td>NaN</td>\n      <td>NaN</td>\n      <td>12.487528</td>\n      <td>NaN</td>\n      <td>NaN</td>\n      <td>0.449715</td>\n      <td>NaN</td>\n      <td>NaN</td>\n      <td>0.23035</td>\n      <td>NaN</td>\n      <td>NaN</td>\n      <td>0.136531</td>\n      <td>NaN</td>\n      <td>NaN</td>\n      <td>4.855458</td>\n      <td>NaN</td>\n      <td>NaN</td>\n      <td>2.701564</td>\n    </tr>\n    <tr>\n      <th>RMSE</th>\n      <td>NaN</td>\n      <td>NaN</td>\n      <td>3.5337696009041566</td>\n      <td>NaN</td>\n      <td>NaN</td>\n      <td>0.6706078311582372</td>\n      <td>NaN</td>\n      <td>NaN</td>\n      <td>0.4799479473618996</td>\n      <td>NaN</td>\n      <td>NaN</td>\n      <td>0.36950074440756864</td>\n      <td>NaN</td>\n      <td>NaN</td>\n      <td>2.2035103215334026</td>\n      <td>NaN</td>\n      <td>NaN</td>\n      <td>1.6436434808907232</td>\n    </tr>\n  </tbody>\n</table>\n</div>"
     },
     "execution_count": 93,
     "metadata": {},
     "output_type": "execute_result"
    }
   ],
   "source": [
    "\n",
    "calc_auto_m(\"OfficerDosage*C(Saturday) + C(Friday) + C(Sunday) + Temp\")"
   ],
   "metadata": {
    "collapsed": false,
    "pycharm": {
     "name": "#%%\n"
    }
   }
  },
  {
   "cell_type": "code",
   "execution_count": 87,
   "outputs": [
    {
     "data": {
      "text/plain": "               TNOs_params  TNOs_p           TNOs_fit  Drugs_params  Drugs_p  \\\nintercept         1.486638   0.159                NaN           NaN      NaN   \nOfficerDosage     0.485506   0.000                NaN      0.007614    0.623   \nTemp              0.028475   0.673                NaN      0.022958    0.000   \nar.L1            -0.800349   0.000                NaN           NaN      NaN   \nar.L2            -0.803472   0.000                NaN           NaN      NaN   \nma.L1             0.817135   0.000                NaN           NaN      NaN   \nma.L2             0.961392   0.000                NaN           NaN      NaN   \nar.S.L7           0.897986   0.000                NaN           NaN      NaN   \nma.S.L7          -0.723007   0.000                NaN           NaN      NaN   \nsigma2           14.480832   0.000                NaN      0.458316    0.000   \nOrder                  NaN     NaN          (2, 0, 2)           NaN      NaN   \nSeasonOrder            NaN     NaN       (1, 0, 1, 7)           NaN      NaN   \nAIC                    NaN     NaN        1042.166457           NaN      NaN   \nBIC                    NaN     NaN        1074.370015           NaN      NaN   \nMSE                    NaN     NaN          14.676039           NaN      NaN   \nRMSE                   NaN     NaN  3.830931859382544           NaN      NaN   \nar.S.L14               NaN     NaN                NaN           NaN      NaN   \nma.S.L14               NaN     NaN                NaN           NaN      NaN   \n\n                        Drugs_fit  Robbery_params  Robbery_p  \\\nintercept                     NaN        0.235584      0.022   \nOfficerDosage                 NaN        0.045860      0.000   \nTemp                          NaN       -0.001768      0.754   \nar.L1                         NaN             NaN        NaN   \nar.L2                         NaN             NaN        NaN   \nma.L1                         NaN             NaN        NaN   \nma.L2                         NaN             NaN        NaN   \nar.S.L7                       NaN             NaN        NaN   \nma.S.L7                       NaN             NaN        NaN   \nsigma2                        NaN        0.246772      0.000   \nOrder                   (0, 0, 0)             NaN        NaN   \nSeasonOrder          (0, 0, 0, 7)             NaN        NaN   \nAIC                    386.673341             NaN        NaN   \nBIC                    396.334408             NaN        NaN   \nMSE                      0.458322             NaN        NaN   \nRMSE           0.6769948142540155             NaN        NaN   \nar.S.L14                      NaN             NaN        NaN   \nma.S.L14                      NaN             NaN        NaN   \n\n                      Robbery_fit  SexualOffences_params  SexualOffences_p  \\\nintercept                     NaN                    NaN               NaN   \nOfficerDosage                 NaN               0.012926             0.070   \nTemp                          NaN               0.008185             0.002   \nar.L1                         NaN                    NaN               NaN   \nar.L2                         NaN                    NaN               NaN   \nma.L1                         NaN                    NaN               NaN   \nma.L2                         NaN                    NaN               NaN   \nar.S.L7                       NaN                    NaN               NaN   \nma.S.L7                       NaN                    NaN               NaN   \nsigma2                        NaN               0.147002             0.000   \nOrder                   (0, 0, 0)                    NaN               NaN   \nSeasonOrder          (0, 0, 0, 7)                    NaN               NaN   \nAIC                    274.142456                    NaN               NaN   \nBIC                    287.023879                    NaN               NaN   \nMSE                      0.246777                    NaN               NaN   \nRMSE           0.4967667901860165                    NaN               NaN   \nar.S.L14                      NaN                    NaN               NaN   \nma.S.L14                      NaN                    NaN               NaN   \n\n                SexualOffences_fit  Theft_params  Theft_p           Theft_fit  \\\nintercept                      NaN      0.298200    0.129                 NaN   \nOfficerDosage                  NaN      0.181238    0.014                 NaN   \nTemp                           NaN     -0.019860    0.640                 NaN   \nar.L1                          NaN           NaN      NaN                 NaN   \nar.L2                          NaN           NaN      NaN                 NaN   \nma.L1                          NaN           NaN      NaN                 NaN   \nma.L2                          NaN           NaN      NaN                 NaN   \nar.S.L7                        NaN      0.047422    0.545                 NaN   \nma.S.L7                        NaN      0.041318    0.699                 NaN   \nsigma2                         NaN      5.775510    0.000                 NaN   \nOrder                    (0, 0, 0)           NaN      NaN           (0, 0, 0)   \nSeasonOrder           (0, 0, 0, 7)           NaN      NaN        (2, 0, 2, 7)   \nAIC                     176.309603           NaN      NaN          870.106103   \nBIC                     185.970671           NaN      NaN           895.86895   \nMSE                       0.147006           NaN      NaN            5.920473   \nRMSE           0.38341308939609586           NaN      NaN  2.4332022189106577   \nar.S.L14                       NaN      0.856400    0.000                 NaN   \nma.S.L14                       NaN     -0.634598    0.000                 NaN   \n\n               VAP_params  VAP_p             VAP_fit  \nintercept        1.218231  0.000                 NaN  \nOfficerDosage    0.133402  0.000                 NaN  \nTemp             0.034038  0.079                 NaN  \nar.L1                 NaN    NaN                 NaN  \nar.L2                 NaN    NaN                 NaN  \nma.L1                 NaN    NaN                 NaN  \nma.L2                 NaN    NaN                 NaN  \nar.S.L7               NaN    NaN                 NaN  \nma.S.L7               NaN    NaN                 NaN  \nsigma2           2.917131  0.000                 NaN  \nOrder                 NaN    NaN           (0, 0, 0)  \nSeasonOrder           NaN    NaN        (0, 0, 0, 7)  \nAIC                   NaN    NaN          731.068813  \nBIC                   NaN    NaN          743.950236  \nMSE                   NaN    NaN            2.917138  \nRMSE                  NaN    NaN  1.7079631187104778  \nar.S.L14              NaN    NaN                 NaN  \nma.S.L14              NaN    NaN                 NaN  ",
      "text/html": "<div>\n<style scoped>\n    .dataframe tbody tr th:only-of-type {\n        vertical-align: middle;\n    }\n\n    .dataframe tbody tr th {\n        vertical-align: top;\n    }\n\n    .dataframe thead th {\n        text-align: right;\n    }\n</style>\n<table border=\"1\" class=\"dataframe\">\n  <thead>\n    <tr style=\"text-align: right;\">\n      <th></th>\n      <th>TNOs_params</th>\n      <th>TNOs_p</th>\n      <th>TNOs_fit</th>\n      <th>Drugs_params</th>\n      <th>Drugs_p</th>\n      <th>Drugs_fit</th>\n      <th>Robbery_params</th>\n      <th>Robbery_p</th>\n      <th>Robbery_fit</th>\n      <th>SexualOffences_params</th>\n      <th>SexualOffences_p</th>\n      <th>SexualOffences_fit</th>\n      <th>Theft_params</th>\n      <th>Theft_p</th>\n      <th>Theft_fit</th>\n      <th>VAP_params</th>\n      <th>VAP_p</th>\n      <th>VAP_fit</th>\n    </tr>\n  </thead>\n  <tbody>\n    <tr>\n      <th>intercept</th>\n      <td>1.486638</td>\n      <td>0.159</td>\n      <td>NaN</td>\n      <td>NaN</td>\n      <td>NaN</td>\n      <td>NaN</td>\n      <td>0.235584</td>\n      <td>0.022</td>\n      <td>NaN</td>\n      <td>NaN</td>\n      <td>NaN</td>\n      <td>NaN</td>\n      <td>0.298200</td>\n      <td>0.129</td>\n      <td>NaN</td>\n      <td>1.218231</td>\n      <td>0.000</td>\n      <td>NaN</td>\n    </tr>\n    <tr>\n      <th>OfficerDosage</th>\n      <td>0.485506</td>\n      <td>0.000</td>\n      <td>NaN</td>\n      <td>0.007614</td>\n      <td>0.623</td>\n      <td>NaN</td>\n      <td>0.045860</td>\n      <td>0.000</td>\n      <td>NaN</td>\n      <td>0.012926</td>\n      <td>0.070</td>\n      <td>NaN</td>\n      <td>0.181238</td>\n      <td>0.014</td>\n      <td>NaN</td>\n      <td>0.133402</td>\n      <td>0.000</td>\n      <td>NaN</td>\n    </tr>\n    <tr>\n      <th>Temp</th>\n      <td>0.028475</td>\n      <td>0.673</td>\n      <td>NaN</td>\n      <td>0.022958</td>\n      <td>0.000</td>\n      <td>NaN</td>\n      <td>-0.001768</td>\n      <td>0.754</td>\n      <td>NaN</td>\n      <td>0.008185</td>\n      <td>0.002</td>\n      <td>NaN</td>\n      <td>-0.019860</td>\n      <td>0.640</td>\n      <td>NaN</td>\n      <td>0.034038</td>\n      <td>0.079</td>\n      <td>NaN</td>\n    </tr>\n    <tr>\n      <th>ar.L1</th>\n      <td>-0.800349</td>\n      <td>0.000</td>\n      <td>NaN</td>\n      <td>NaN</td>\n      <td>NaN</td>\n      <td>NaN</td>\n      <td>NaN</td>\n      <td>NaN</td>\n      <td>NaN</td>\n      <td>NaN</td>\n      <td>NaN</td>\n      <td>NaN</td>\n      <td>NaN</td>\n      <td>NaN</td>\n      <td>NaN</td>\n      <td>NaN</td>\n      <td>NaN</td>\n      <td>NaN</td>\n    </tr>\n    <tr>\n      <th>ar.L2</th>\n      <td>-0.803472</td>\n      <td>0.000</td>\n      <td>NaN</td>\n      <td>NaN</td>\n      <td>NaN</td>\n      <td>NaN</td>\n      <td>NaN</td>\n      <td>NaN</td>\n      <td>NaN</td>\n      <td>NaN</td>\n      <td>NaN</td>\n      <td>NaN</td>\n      <td>NaN</td>\n      <td>NaN</td>\n      <td>NaN</td>\n      <td>NaN</td>\n      <td>NaN</td>\n      <td>NaN</td>\n    </tr>\n    <tr>\n      <th>ma.L1</th>\n      <td>0.817135</td>\n      <td>0.000</td>\n      <td>NaN</td>\n      <td>NaN</td>\n      <td>NaN</td>\n      <td>NaN</td>\n      <td>NaN</td>\n      <td>NaN</td>\n      <td>NaN</td>\n      <td>NaN</td>\n      <td>NaN</td>\n      <td>NaN</td>\n      <td>NaN</td>\n      <td>NaN</td>\n      <td>NaN</td>\n      <td>NaN</td>\n      <td>NaN</td>\n      <td>NaN</td>\n    </tr>\n    <tr>\n      <th>ma.L2</th>\n      <td>0.961392</td>\n      <td>0.000</td>\n      <td>NaN</td>\n      <td>NaN</td>\n      <td>NaN</td>\n      <td>NaN</td>\n      <td>NaN</td>\n      <td>NaN</td>\n      <td>NaN</td>\n      <td>NaN</td>\n      <td>NaN</td>\n      <td>NaN</td>\n      <td>NaN</td>\n      <td>NaN</td>\n      <td>NaN</td>\n      <td>NaN</td>\n      <td>NaN</td>\n      <td>NaN</td>\n    </tr>\n    <tr>\n      <th>ar.S.L7</th>\n      <td>0.897986</td>\n      <td>0.000</td>\n      <td>NaN</td>\n      <td>NaN</td>\n      <td>NaN</td>\n      <td>NaN</td>\n      <td>NaN</td>\n      <td>NaN</td>\n      <td>NaN</td>\n      <td>NaN</td>\n      <td>NaN</td>\n      <td>NaN</td>\n      <td>0.047422</td>\n      <td>0.545</td>\n      <td>NaN</td>\n      <td>NaN</td>\n      <td>NaN</td>\n      <td>NaN</td>\n    </tr>\n    <tr>\n      <th>ma.S.L7</th>\n      <td>-0.723007</td>\n      <td>0.000</td>\n      <td>NaN</td>\n      <td>NaN</td>\n      <td>NaN</td>\n      <td>NaN</td>\n      <td>NaN</td>\n      <td>NaN</td>\n      <td>NaN</td>\n      <td>NaN</td>\n      <td>NaN</td>\n      <td>NaN</td>\n      <td>0.041318</td>\n      <td>0.699</td>\n      <td>NaN</td>\n      <td>NaN</td>\n      <td>NaN</td>\n      <td>NaN</td>\n    </tr>\n    <tr>\n      <th>sigma2</th>\n      <td>14.480832</td>\n      <td>0.000</td>\n      <td>NaN</td>\n      <td>0.458316</td>\n      <td>0.000</td>\n      <td>NaN</td>\n      <td>0.246772</td>\n      <td>0.000</td>\n      <td>NaN</td>\n      <td>0.147002</td>\n      <td>0.000</td>\n      <td>NaN</td>\n      <td>5.775510</td>\n      <td>0.000</td>\n      <td>NaN</td>\n      <td>2.917131</td>\n      <td>0.000</td>\n      <td>NaN</td>\n    </tr>\n    <tr>\n      <th>Order</th>\n      <td>NaN</td>\n      <td>NaN</td>\n      <td>(2, 0, 2)</td>\n      <td>NaN</td>\n      <td>NaN</td>\n      <td>(0, 0, 0)</td>\n      <td>NaN</td>\n      <td>NaN</td>\n      <td>(0, 0, 0)</td>\n      <td>NaN</td>\n      <td>NaN</td>\n      <td>(0, 0, 0)</td>\n      <td>NaN</td>\n      <td>NaN</td>\n      <td>(0, 0, 0)</td>\n      <td>NaN</td>\n      <td>NaN</td>\n      <td>(0, 0, 0)</td>\n    </tr>\n    <tr>\n      <th>SeasonOrder</th>\n      <td>NaN</td>\n      <td>NaN</td>\n      <td>(1, 0, 1, 7)</td>\n      <td>NaN</td>\n      <td>NaN</td>\n      <td>(0, 0, 0, 7)</td>\n      <td>NaN</td>\n      <td>NaN</td>\n      <td>(0, 0, 0, 7)</td>\n      <td>NaN</td>\n      <td>NaN</td>\n      <td>(0, 0, 0, 7)</td>\n      <td>NaN</td>\n      <td>NaN</td>\n      <td>(2, 0, 2, 7)</td>\n      <td>NaN</td>\n      <td>NaN</td>\n      <td>(0, 0, 0, 7)</td>\n    </tr>\n    <tr>\n      <th>AIC</th>\n      <td>NaN</td>\n      <td>NaN</td>\n      <td>1042.166457</td>\n      <td>NaN</td>\n      <td>NaN</td>\n      <td>386.673341</td>\n      <td>NaN</td>\n      <td>NaN</td>\n      <td>274.142456</td>\n      <td>NaN</td>\n      <td>NaN</td>\n      <td>176.309603</td>\n      <td>NaN</td>\n      <td>NaN</td>\n      <td>870.106103</td>\n      <td>NaN</td>\n      <td>NaN</td>\n      <td>731.068813</td>\n    </tr>\n    <tr>\n      <th>BIC</th>\n      <td>NaN</td>\n      <td>NaN</td>\n      <td>1074.370015</td>\n      <td>NaN</td>\n      <td>NaN</td>\n      <td>396.334408</td>\n      <td>NaN</td>\n      <td>NaN</td>\n      <td>287.023879</td>\n      <td>NaN</td>\n      <td>NaN</td>\n      <td>185.970671</td>\n      <td>NaN</td>\n      <td>NaN</td>\n      <td>895.86895</td>\n      <td>NaN</td>\n      <td>NaN</td>\n      <td>743.950236</td>\n    </tr>\n    <tr>\n      <th>MSE</th>\n      <td>NaN</td>\n      <td>NaN</td>\n      <td>14.676039</td>\n      <td>NaN</td>\n      <td>NaN</td>\n      <td>0.458322</td>\n      <td>NaN</td>\n      <td>NaN</td>\n      <td>0.246777</td>\n      <td>NaN</td>\n      <td>NaN</td>\n      <td>0.147006</td>\n      <td>NaN</td>\n      <td>NaN</td>\n      <td>5.920473</td>\n      <td>NaN</td>\n      <td>NaN</td>\n      <td>2.917138</td>\n    </tr>\n    <tr>\n      <th>RMSE</th>\n      <td>NaN</td>\n      <td>NaN</td>\n      <td>3.830931859382544</td>\n      <td>NaN</td>\n      <td>NaN</td>\n      <td>0.6769948142540155</td>\n      <td>NaN</td>\n      <td>NaN</td>\n      <td>0.4967667901860165</td>\n      <td>NaN</td>\n      <td>NaN</td>\n      <td>0.38341308939609586</td>\n      <td>NaN</td>\n      <td>NaN</td>\n      <td>2.4332022189106577</td>\n      <td>NaN</td>\n      <td>NaN</td>\n      <td>1.7079631187104778</td>\n    </tr>\n    <tr>\n      <th>ar.S.L14</th>\n      <td>NaN</td>\n      <td>NaN</td>\n      <td>NaN</td>\n      <td>NaN</td>\n      <td>NaN</td>\n      <td>NaN</td>\n      <td>NaN</td>\n      <td>NaN</td>\n      <td>NaN</td>\n      <td>NaN</td>\n      <td>NaN</td>\n      <td>NaN</td>\n      <td>0.856400</td>\n      <td>0.000</td>\n      <td>NaN</td>\n      <td>NaN</td>\n      <td>NaN</td>\n      <td>NaN</td>\n    </tr>\n    <tr>\n      <th>ma.S.L14</th>\n      <td>NaN</td>\n      <td>NaN</td>\n      <td>NaN</td>\n      <td>NaN</td>\n      <td>NaN</td>\n      <td>NaN</td>\n      <td>NaN</td>\n      <td>NaN</td>\n      <td>NaN</td>\n      <td>NaN</td>\n      <td>NaN</td>\n      <td>NaN</td>\n      <td>-0.634598</td>\n      <td>0.000</td>\n      <td>NaN</td>\n      <td>NaN</td>\n      <td>NaN</td>\n      <td>NaN</td>\n    </tr>\n  </tbody>\n</table>\n</div>"
     },
     "execution_count": 87,
     "metadata": {},
     "output_type": "execute_result"
    }
   ],
   "source": [
    "calc_auto_m(\"OfficerDosage + Temp\")"
   ],
   "metadata": {
    "collapsed": false,
    "pycharm": {
     "name": "#%%\n"
    }
   }
  },
  {
   "cell_type": "code",
   "execution_count": 88,
   "outputs": [
    {
     "data": {
      "text/plain": "             TNOs_params  TNOs_p           TNOs_fit  Drugs_params  Drugs_p  \\\nintercept       1.410353   0.122                NaN           NaN      NaN   \nTemp           -0.022834   0.757                NaN      0.023780      0.0   \nar.L1          -0.830292   0.000                NaN           NaN      NaN   \nar.L2          -0.857407   0.000                NaN           NaN      NaN   \nma.L1           0.829118   0.000                NaN           NaN      NaN   \nma.L2           0.951651   0.000                NaN           NaN      NaN   \nar.S.L7         0.925065   0.000                NaN           NaN      NaN   \nma.S.L7        -0.691193   0.000                NaN           NaN      NaN   \nsigma2         15.478456   0.000                NaN      0.459031      0.0   \nOrder                NaN     NaN          (2, 0, 2)           NaN      NaN   \nSeasonOrder          NaN     NaN       (1, 0, 1, 7)           NaN      NaN   \nAIC                  NaN     NaN        1053.330014           NaN      NaN   \nBIC                  NaN     NaN        1082.313216           NaN      NaN   \nMSE                  NaN     NaN          15.812297           NaN      NaN   \nRMSE                 NaN     NaN  3.976467844420655           NaN      NaN   \nar.S.L14             NaN     NaN                NaN           NaN      NaN   \n\n                      Drugs_fit  Robbery_params  Robbery_p  \\\nintercept                   NaN        0.019534      0.390   \nTemp                        NaN       -0.002579      0.724   \nar.L1                       NaN             NaN        NaN   \nar.L2                       NaN             NaN        NaN   \nma.L1                       NaN             NaN        NaN   \nma.L2                       NaN             NaN        NaN   \nar.S.L7                     NaN        0.817598      0.000   \nma.S.L7                     NaN       -0.852894      0.000   \nsigma2                      NaN        0.255749      0.000   \nOrder                 (0, 0, 0)             NaN        NaN   \nSeasonOrder        (0, 0, 0, 7)             NaN        NaN   \nAIC                  384.961226             NaN        NaN   \nBIC                  391.401937             NaN        NaN   \nMSE                    0.459036             NaN        NaN   \nRMSE         0.6775217666156597             NaN        NaN   \nar.S.L14                    NaN        0.123709      0.157   \n\n                    Robbery_fit  SexualOffences_params  SexualOffences_p  \\\nintercept                   NaN                    NaN               NaN   \nTemp                        NaN                0.00958               0.0   \nar.L1                       NaN                    NaN               NaN   \nar.L2                       NaN                    NaN               NaN   \nma.L1                       NaN                    NaN               NaN   \nma.L2                       NaN                    NaN               NaN   \nar.S.L7                     NaN                    NaN               NaN   \nma.S.L7                     NaN                    NaN               NaN   \nsigma2                      NaN                0.14906               0.0   \nOrder                 (0, 0, 0)                    NaN               NaN   \nSeasonOrder        (2, 0, 1, 7)                    NaN               NaN   \nAIC                  286.705982                    NaN               NaN   \nBIC                  306.028117                    NaN               NaN   \nMSE                    0.259027                    NaN               NaN   \nRMSE         0.5089471311112707                    NaN               NaN   \nar.S.L14                    NaN                    NaN               NaN   \n\n             SexualOffences_fit  Theft_params  Theft_p           Theft_fit  \\\nintercept                   NaN      0.151096    0.134                 NaN   \nTemp                        NaN     -0.037049    0.356                 NaN   \nar.L1                       NaN           NaN      NaN                 NaN   \nar.L2                       NaN           NaN      NaN                 NaN   \nma.L1                       NaN           NaN      NaN                 NaN   \nma.L2                       NaN           NaN      NaN                 NaN   \nar.S.L7                     NaN      0.958382    0.000                 NaN   \nma.S.L7                     NaN     -0.777290    0.000                 NaN   \nsigma2                      NaN      6.059753    0.000                 NaN   \nOrder                 (0, 0, 0)           NaN      NaN           (0, 0, 0)   \nSeasonOrder        (0, 0, 0, 7)           NaN      NaN        (1, 0, 1, 7)   \nAIC                  176.880806           NaN      NaN          873.226635   \nBIC                  183.321518           NaN      NaN          889.328414   \nMSE                    0.149063           NaN      NaN            6.227975   \nRMSE         0.3860867818432737           NaN      NaN  2.4955910528796696   \nar.S.L14                    NaN           NaN      NaN                 NaN   \n\n             VAP_params  VAP_p            VAP_fit  \nintercept      0.050326  0.617                NaN  \nTemp           0.031709  0.161                NaN  \nar.L1               NaN    NaN                NaN  \nar.L2               NaN    NaN                NaN  \nma.L1               NaN    NaN                NaN  \nma.L2               NaN    NaN                NaN  \nar.S.L7        0.965564  0.000                NaN  \nma.S.L7       -0.910180  0.000                NaN  \nsigma2         2.985206  0.000                NaN  \nOrder               NaN    NaN          (0, 0, 0)  \nSeasonOrder         NaN    NaN       (1, 0, 1, 7)  \nAIC                 NaN    NaN          738.32819  \nBIC                 NaN    NaN          754.42997  \nMSE                 NaN    NaN           2.993113  \nRMSE                NaN    NaN  1.730061511084071  \nar.S.L14            NaN    NaN                NaN  ",
      "text/html": "<div>\n<style scoped>\n    .dataframe tbody tr th:only-of-type {\n        vertical-align: middle;\n    }\n\n    .dataframe tbody tr th {\n        vertical-align: top;\n    }\n\n    .dataframe thead th {\n        text-align: right;\n    }\n</style>\n<table border=\"1\" class=\"dataframe\">\n  <thead>\n    <tr style=\"text-align: right;\">\n      <th></th>\n      <th>TNOs_params</th>\n      <th>TNOs_p</th>\n      <th>TNOs_fit</th>\n      <th>Drugs_params</th>\n      <th>Drugs_p</th>\n      <th>Drugs_fit</th>\n      <th>Robbery_params</th>\n      <th>Robbery_p</th>\n      <th>Robbery_fit</th>\n      <th>SexualOffences_params</th>\n      <th>SexualOffences_p</th>\n      <th>SexualOffences_fit</th>\n      <th>Theft_params</th>\n      <th>Theft_p</th>\n      <th>Theft_fit</th>\n      <th>VAP_params</th>\n      <th>VAP_p</th>\n      <th>VAP_fit</th>\n    </tr>\n  </thead>\n  <tbody>\n    <tr>\n      <th>intercept</th>\n      <td>1.410353</td>\n      <td>0.122</td>\n      <td>NaN</td>\n      <td>NaN</td>\n      <td>NaN</td>\n      <td>NaN</td>\n      <td>0.019534</td>\n      <td>0.390</td>\n      <td>NaN</td>\n      <td>NaN</td>\n      <td>NaN</td>\n      <td>NaN</td>\n      <td>0.151096</td>\n      <td>0.134</td>\n      <td>NaN</td>\n      <td>0.050326</td>\n      <td>0.617</td>\n      <td>NaN</td>\n    </tr>\n    <tr>\n      <th>Temp</th>\n      <td>-0.022834</td>\n      <td>0.757</td>\n      <td>NaN</td>\n      <td>0.023780</td>\n      <td>0.0</td>\n      <td>NaN</td>\n      <td>-0.002579</td>\n      <td>0.724</td>\n      <td>NaN</td>\n      <td>0.00958</td>\n      <td>0.0</td>\n      <td>NaN</td>\n      <td>-0.037049</td>\n      <td>0.356</td>\n      <td>NaN</td>\n      <td>0.031709</td>\n      <td>0.161</td>\n      <td>NaN</td>\n    </tr>\n    <tr>\n      <th>ar.L1</th>\n      <td>-0.830292</td>\n      <td>0.000</td>\n      <td>NaN</td>\n      <td>NaN</td>\n      <td>NaN</td>\n      <td>NaN</td>\n      <td>NaN</td>\n      <td>NaN</td>\n      <td>NaN</td>\n      <td>NaN</td>\n      <td>NaN</td>\n      <td>NaN</td>\n      <td>NaN</td>\n      <td>NaN</td>\n      <td>NaN</td>\n      <td>NaN</td>\n      <td>NaN</td>\n      <td>NaN</td>\n    </tr>\n    <tr>\n      <th>ar.L2</th>\n      <td>-0.857407</td>\n      <td>0.000</td>\n      <td>NaN</td>\n      <td>NaN</td>\n      <td>NaN</td>\n      <td>NaN</td>\n      <td>NaN</td>\n      <td>NaN</td>\n      <td>NaN</td>\n      <td>NaN</td>\n      <td>NaN</td>\n      <td>NaN</td>\n      <td>NaN</td>\n      <td>NaN</td>\n      <td>NaN</td>\n      <td>NaN</td>\n      <td>NaN</td>\n      <td>NaN</td>\n    </tr>\n    <tr>\n      <th>ma.L1</th>\n      <td>0.829118</td>\n      <td>0.000</td>\n      <td>NaN</td>\n      <td>NaN</td>\n      <td>NaN</td>\n      <td>NaN</td>\n      <td>NaN</td>\n      <td>NaN</td>\n      <td>NaN</td>\n      <td>NaN</td>\n      <td>NaN</td>\n      <td>NaN</td>\n      <td>NaN</td>\n      <td>NaN</td>\n      <td>NaN</td>\n      <td>NaN</td>\n      <td>NaN</td>\n      <td>NaN</td>\n    </tr>\n    <tr>\n      <th>ma.L2</th>\n      <td>0.951651</td>\n      <td>0.000</td>\n      <td>NaN</td>\n      <td>NaN</td>\n      <td>NaN</td>\n      <td>NaN</td>\n      <td>NaN</td>\n      <td>NaN</td>\n      <td>NaN</td>\n      <td>NaN</td>\n      <td>NaN</td>\n      <td>NaN</td>\n      <td>NaN</td>\n      <td>NaN</td>\n      <td>NaN</td>\n      <td>NaN</td>\n      <td>NaN</td>\n      <td>NaN</td>\n    </tr>\n    <tr>\n      <th>ar.S.L7</th>\n      <td>0.925065</td>\n      <td>0.000</td>\n      <td>NaN</td>\n      <td>NaN</td>\n      <td>NaN</td>\n      <td>NaN</td>\n      <td>0.817598</td>\n      <td>0.000</td>\n      <td>NaN</td>\n      <td>NaN</td>\n      <td>NaN</td>\n      <td>NaN</td>\n      <td>0.958382</td>\n      <td>0.000</td>\n      <td>NaN</td>\n      <td>0.965564</td>\n      <td>0.000</td>\n      <td>NaN</td>\n    </tr>\n    <tr>\n      <th>ma.S.L7</th>\n      <td>-0.691193</td>\n      <td>0.000</td>\n      <td>NaN</td>\n      <td>NaN</td>\n      <td>NaN</td>\n      <td>NaN</td>\n      <td>-0.852894</td>\n      <td>0.000</td>\n      <td>NaN</td>\n      <td>NaN</td>\n      <td>NaN</td>\n      <td>NaN</td>\n      <td>-0.777290</td>\n      <td>0.000</td>\n      <td>NaN</td>\n      <td>-0.910180</td>\n      <td>0.000</td>\n      <td>NaN</td>\n    </tr>\n    <tr>\n      <th>sigma2</th>\n      <td>15.478456</td>\n      <td>0.000</td>\n      <td>NaN</td>\n      <td>0.459031</td>\n      <td>0.0</td>\n      <td>NaN</td>\n      <td>0.255749</td>\n      <td>0.000</td>\n      <td>NaN</td>\n      <td>0.14906</td>\n      <td>0.0</td>\n      <td>NaN</td>\n      <td>6.059753</td>\n      <td>0.000</td>\n      <td>NaN</td>\n      <td>2.985206</td>\n      <td>0.000</td>\n      <td>NaN</td>\n    </tr>\n    <tr>\n      <th>Order</th>\n      <td>NaN</td>\n      <td>NaN</td>\n      <td>(2, 0, 2)</td>\n      <td>NaN</td>\n      <td>NaN</td>\n      <td>(0, 0, 0)</td>\n      <td>NaN</td>\n      <td>NaN</td>\n      <td>(0, 0, 0)</td>\n      <td>NaN</td>\n      <td>NaN</td>\n      <td>(0, 0, 0)</td>\n      <td>NaN</td>\n      <td>NaN</td>\n      <td>(0, 0, 0)</td>\n      <td>NaN</td>\n      <td>NaN</td>\n      <td>(0, 0, 0)</td>\n    </tr>\n    <tr>\n      <th>SeasonOrder</th>\n      <td>NaN</td>\n      <td>NaN</td>\n      <td>(1, 0, 1, 7)</td>\n      <td>NaN</td>\n      <td>NaN</td>\n      <td>(0, 0, 0, 7)</td>\n      <td>NaN</td>\n      <td>NaN</td>\n      <td>(2, 0, 1, 7)</td>\n      <td>NaN</td>\n      <td>NaN</td>\n      <td>(0, 0, 0, 7)</td>\n      <td>NaN</td>\n      <td>NaN</td>\n      <td>(1, 0, 1, 7)</td>\n      <td>NaN</td>\n      <td>NaN</td>\n      <td>(1, 0, 1, 7)</td>\n    </tr>\n    <tr>\n      <th>AIC</th>\n      <td>NaN</td>\n      <td>NaN</td>\n      <td>1053.330014</td>\n      <td>NaN</td>\n      <td>NaN</td>\n      <td>384.961226</td>\n      <td>NaN</td>\n      <td>NaN</td>\n      <td>286.705982</td>\n      <td>NaN</td>\n      <td>NaN</td>\n      <td>176.880806</td>\n      <td>NaN</td>\n      <td>NaN</td>\n      <td>873.226635</td>\n      <td>NaN</td>\n      <td>NaN</td>\n      <td>738.32819</td>\n    </tr>\n    <tr>\n      <th>BIC</th>\n      <td>NaN</td>\n      <td>NaN</td>\n      <td>1082.313216</td>\n      <td>NaN</td>\n      <td>NaN</td>\n      <td>391.401937</td>\n      <td>NaN</td>\n      <td>NaN</td>\n      <td>306.028117</td>\n      <td>NaN</td>\n      <td>NaN</td>\n      <td>183.321518</td>\n      <td>NaN</td>\n      <td>NaN</td>\n      <td>889.328414</td>\n      <td>NaN</td>\n      <td>NaN</td>\n      <td>754.42997</td>\n    </tr>\n    <tr>\n      <th>MSE</th>\n      <td>NaN</td>\n      <td>NaN</td>\n      <td>15.812297</td>\n      <td>NaN</td>\n      <td>NaN</td>\n      <td>0.459036</td>\n      <td>NaN</td>\n      <td>NaN</td>\n      <td>0.259027</td>\n      <td>NaN</td>\n      <td>NaN</td>\n      <td>0.149063</td>\n      <td>NaN</td>\n      <td>NaN</td>\n      <td>6.227975</td>\n      <td>NaN</td>\n      <td>NaN</td>\n      <td>2.993113</td>\n    </tr>\n    <tr>\n      <th>RMSE</th>\n      <td>NaN</td>\n      <td>NaN</td>\n      <td>3.976467844420655</td>\n      <td>NaN</td>\n      <td>NaN</td>\n      <td>0.6775217666156597</td>\n      <td>NaN</td>\n      <td>NaN</td>\n      <td>0.5089471311112707</td>\n      <td>NaN</td>\n      <td>NaN</td>\n      <td>0.3860867818432737</td>\n      <td>NaN</td>\n      <td>NaN</td>\n      <td>2.4955910528796696</td>\n      <td>NaN</td>\n      <td>NaN</td>\n      <td>1.730061511084071</td>\n    </tr>\n    <tr>\n      <th>ar.S.L14</th>\n      <td>NaN</td>\n      <td>NaN</td>\n      <td>NaN</td>\n      <td>NaN</td>\n      <td>NaN</td>\n      <td>NaN</td>\n      <td>0.123709</td>\n      <td>0.157</td>\n      <td>NaN</td>\n      <td>NaN</td>\n      <td>NaN</td>\n      <td>NaN</td>\n      <td>NaN</td>\n      <td>NaN</td>\n      <td>NaN</td>\n      <td>NaN</td>\n      <td>NaN</td>\n      <td>NaN</td>\n    </tr>\n  </tbody>\n</table>\n</div>"
     },
     "execution_count": 88,
     "metadata": {},
     "output_type": "execute_result"
    }
   ],
   "source": [
    "calc_auto_m(\"Temp \")"
   ],
   "metadata": {
    "collapsed": false,
    "pycharm": {
     "name": "#%%\n"
    }
   }
  },
  {
   "cell_type": "code",
   "execution_count": 89,
   "outputs": [
    {
     "data": {
      "text/plain": "               TNOs_params  TNOs_p           TNOs_fit  Drugs_params  Drugs_p  \\\nintercept         0.001601   0.513                NaN      0.316288    0.001   \nOfficerDosage     0.358603   0.001                NaN      0.004691    0.796   \nar.L1            -0.020148   0.789                NaN           NaN      NaN   \nar.L2             0.136544   0.086                NaN           NaN      NaN   \nma.L1            -0.985396   0.000                NaN           NaN      NaN   \nar.S.L7           0.191573   0.432                NaN           NaN      NaN   \nar.S.L14          0.690964   0.003                NaN           NaN      NaN   \nma.S.L7          -0.097304   0.722                NaN           NaN      NaN   \nma.S.L14         -0.473658   0.049                NaN           NaN      NaN   \nsigma2           14.424073   0.000                NaN      0.467522    0.000   \nOrder                  NaN     NaN          (2, 1, 1)           NaN      NaN   \nSeasonOrder            NaN     NaN       (2, 0, 2, 7)           NaN      NaN   \nAIC                    NaN     NaN        1045.853956           NaN      NaN   \nBIC                    NaN     NaN        1078.003314           NaN      NaN   \nMSE                    NaN     NaN          15.222741           NaN      NaN   \nRMSE                   NaN     NaN  3.901633056050373           NaN      NaN   \nma.L2                  NaN     NaN                NaN           NaN      NaN   \n\n                       Drugs_fit  Robbery_params  Robbery_p  \\\nintercept                    NaN        0.213347      0.006   \nOfficerDosage                NaN        0.045837      0.000   \nar.L1                        NaN             NaN        NaN   \nar.L2                        NaN             NaN        NaN   \nma.L1                        NaN             NaN        NaN   \nar.S.L7                      NaN             NaN        NaN   \nar.S.L14                     NaN             NaN        NaN   \nma.S.L7                      NaN             NaN        NaN   \nma.S.L14                     NaN             NaN        NaN   \nsigma2                       NaN        0.246903      0.000   \nOrder                  (0, 0, 0)             NaN        NaN   \nSeasonOrder         (0, 0, 0, 7)             NaN        NaN   \nAIC                   390.352519             NaN        NaN   \nBIC                   400.013586             NaN        NaN   \nMSE                     0.467528             NaN        NaN   \nRMSE           0.683760244945143             NaN        NaN   \nma.L2                        NaN             NaN        NaN   \n\n                      Robbery_fit  SexualOffences_params  SexualOffences_p  \\\nintercept                     NaN               0.115269             0.092   \nOfficerDosage                 NaN               0.011591             0.116   \nar.L1                         NaN                    NaN               NaN   \nar.L2                         NaN                    NaN               NaN   \nma.L1                         NaN                    NaN               NaN   \nar.S.L7                       NaN                    NaN               NaN   \nar.S.L14                      NaN                    NaN               NaN   \nma.S.L7                       NaN                    NaN               NaN   \nma.S.L14                      NaN                    NaN               NaN   \nsigma2                        NaN               0.147725             0.000   \nOrder                   (0, 0, 0)                    NaN               NaN   \nSeasonOrder          (0, 0, 0, 7)                    NaN               NaN   \nAIC                    272.239929                    NaN               NaN   \nBIC                    281.900996                    NaN               NaN   \nMSE                      0.246907                    NaN               NaN   \nRMSE           0.4968976754455667                    NaN               NaN   \nma.L2                         NaN                    NaN               NaN   \n\n               SexualOffences_fit  Theft_params  Theft_p          Theft_fit  \\\nintercept                     NaN      0.845950    0.132                NaN   \nOfficerDosage                 NaN      0.205355    0.004                NaN   \nar.L1                         NaN     -0.772200    0.000                NaN   \nar.L2                         NaN     -0.877654    0.000                NaN   \nma.L1                         NaN      0.853866    0.000                NaN   \nar.S.L7                       NaN      0.027311    0.699                NaN   \nar.S.L14                      NaN      0.856341    0.000                NaN   \nma.S.L7                       NaN      0.034120    0.768                NaN   \nma.S.L14                      NaN     -0.631422    0.000                NaN   \nsigma2                        NaN      5.573194    0.000                NaN   \nOrder                   (0, 0, 0)           NaN      NaN          (2, 0, 2)   \nSeasonOrder          (0, 0, 0, 7)           NaN      NaN       (2, 0, 2, 7)   \nAIC                    177.217504           NaN      NaN         869.193272   \nBIC                    186.878571           NaN      NaN         904.617186   \nMSE                      0.147729           NaN      NaN           5.703505   \nRMSE           0.3843550580659219           NaN      NaN  2.388201128699691   \nma.L2                         NaN      0.974953    0.000                NaN   \n\n               VAP_params  VAP_p             VAP_fit  \nintercept        1.646439    0.0                 NaN  \nOfficerDosage    0.133829    0.0                 NaN  \nar.L1                 NaN    NaN                 NaN  \nar.L2                 NaN    NaN                 NaN  \nma.L1                 NaN    NaN                 NaN  \nar.S.L7               NaN    NaN                 NaN  \nar.S.L14              NaN    NaN                 NaN  \nma.S.L7               NaN    NaN                 NaN  \nma.S.L14              NaN    NaN                 NaN  \nsigma2           2.966706    0.0                 NaN  \nOrder                 NaN    NaN           (0, 0, 0)  \nSeasonOrder           NaN    NaN        (0, 0, 0, 7)  \nAIC                   NaN    NaN          732.181391  \nBIC                   NaN    NaN          741.842459  \nMSE                   NaN    NaN            2.966633  \nRMSE                  NaN    NaN  1.7223917462721312  \nma.L2                 NaN    NaN                 NaN  ",
      "text/html": "<div>\n<style scoped>\n    .dataframe tbody tr th:only-of-type {\n        vertical-align: middle;\n    }\n\n    .dataframe tbody tr th {\n        vertical-align: top;\n    }\n\n    .dataframe thead th {\n        text-align: right;\n    }\n</style>\n<table border=\"1\" class=\"dataframe\">\n  <thead>\n    <tr style=\"text-align: right;\">\n      <th></th>\n      <th>TNOs_params</th>\n      <th>TNOs_p</th>\n      <th>TNOs_fit</th>\n      <th>Drugs_params</th>\n      <th>Drugs_p</th>\n      <th>Drugs_fit</th>\n      <th>Robbery_params</th>\n      <th>Robbery_p</th>\n      <th>Robbery_fit</th>\n      <th>SexualOffences_params</th>\n      <th>SexualOffences_p</th>\n      <th>SexualOffences_fit</th>\n      <th>Theft_params</th>\n      <th>Theft_p</th>\n      <th>Theft_fit</th>\n      <th>VAP_params</th>\n      <th>VAP_p</th>\n      <th>VAP_fit</th>\n    </tr>\n  </thead>\n  <tbody>\n    <tr>\n      <th>intercept</th>\n      <td>0.001601</td>\n      <td>0.513</td>\n      <td>NaN</td>\n      <td>0.316288</td>\n      <td>0.001</td>\n      <td>NaN</td>\n      <td>0.213347</td>\n      <td>0.006</td>\n      <td>NaN</td>\n      <td>0.115269</td>\n      <td>0.092</td>\n      <td>NaN</td>\n      <td>0.845950</td>\n      <td>0.132</td>\n      <td>NaN</td>\n      <td>1.646439</td>\n      <td>0.0</td>\n      <td>NaN</td>\n    </tr>\n    <tr>\n      <th>OfficerDosage</th>\n      <td>0.358603</td>\n      <td>0.001</td>\n      <td>NaN</td>\n      <td>0.004691</td>\n      <td>0.796</td>\n      <td>NaN</td>\n      <td>0.045837</td>\n      <td>0.000</td>\n      <td>NaN</td>\n      <td>0.011591</td>\n      <td>0.116</td>\n      <td>NaN</td>\n      <td>0.205355</td>\n      <td>0.004</td>\n      <td>NaN</td>\n      <td>0.133829</td>\n      <td>0.0</td>\n      <td>NaN</td>\n    </tr>\n    <tr>\n      <th>ar.L1</th>\n      <td>-0.020148</td>\n      <td>0.789</td>\n      <td>NaN</td>\n      <td>NaN</td>\n      <td>NaN</td>\n      <td>NaN</td>\n      <td>NaN</td>\n      <td>NaN</td>\n      <td>NaN</td>\n      <td>NaN</td>\n      <td>NaN</td>\n      <td>NaN</td>\n      <td>-0.772200</td>\n      <td>0.000</td>\n      <td>NaN</td>\n      <td>NaN</td>\n      <td>NaN</td>\n      <td>NaN</td>\n    </tr>\n    <tr>\n      <th>ar.L2</th>\n      <td>0.136544</td>\n      <td>0.086</td>\n      <td>NaN</td>\n      <td>NaN</td>\n      <td>NaN</td>\n      <td>NaN</td>\n      <td>NaN</td>\n      <td>NaN</td>\n      <td>NaN</td>\n      <td>NaN</td>\n      <td>NaN</td>\n      <td>NaN</td>\n      <td>-0.877654</td>\n      <td>0.000</td>\n      <td>NaN</td>\n      <td>NaN</td>\n      <td>NaN</td>\n      <td>NaN</td>\n    </tr>\n    <tr>\n      <th>ma.L1</th>\n      <td>-0.985396</td>\n      <td>0.000</td>\n      <td>NaN</td>\n      <td>NaN</td>\n      <td>NaN</td>\n      <td>NaN</td>\n      <td>NaN</td>\n      <td>NaN</td>\n      <td>NaN</td>\n      <td>NaN</td>\n      <td>NaN</td>\n      <td>NaN</td>\n      <td>0.853866</td>\n      <td>0.000</td>\n      <td>NaN</td>\n      <td>NaN</td>\n      <td>NaN</td>\n      <td>NaN</td>\n    </tr>\n    <tr>\n      <th>ar.S.L7</th>\n      <td>0.191573</td>\n      <td>0.432</td>\n      <td>NaN</td>\n      <td>NaN</td>\n      <td>NaN</td>\n      <td>NaN</td>\n      <td>NaN</td>\n      <td>NaN</td>\n      <td>NaN</td>\n      <td>NaN</td>\n      <td>NaN</td>\n      <td>NaN</td>\n      <td>0.027311</td>\n      <td>0.699</td>\n      <td>NaN</td>\n      <td>NaN</td>\n      <td>NaN</td>\n      <td>NaN</td>\n    </tr>\n    <tr>\n      <th>ar.S.L14</th>\n      <td>0.690964</td>\n      <td>0.003</td>\n      <td>NaN</td>\n      <td>NaN</td>\n      <td>NaN</td>\n      <td>NaN</td>\n      <td>NaN</td>\n      <td>NaN</td>\n      <td>NaN</td>\n      <td>NaN</td>\n      <td>NaN</td>\n      <td>NaN</td>\n      <td>0.856341</td>\n      <td>0.000</td>\n      <td>NaN</td>\n      <td>NaN</td>\n      <td>NaN</td>\n      <td>NaN</td>\n    </tr>\n    <tr>\n      <th>ma.S.L7</th>\n      <td>-0.097304</td>\n      <td>0.722</td>\n      <td>NaN</td>\n      <td>NaN</td>\n      <td>NaN</td>\n      <td>NaN</td>\n      <td>NaN</td>\n      <td>NaN</td>\n      <td>NaN</td>\n      <td>NaN</td>\n      <td>NaN</td>\n      <td>NaN</td>\n      <td>0.034120</td>\n      <td>0.768</td>\n      <td>NaN</td>\n      <td>NaN</td>\n      <td>NaN</td>\n      <td>NaN</td>\n    </tr>\n    <tr>\n      <th>ma.S.L14</th>\n      <td>-0.473658</td>\n      <td>0.049</td>\n      <td>NaN</td>\n      <td>NaN</td>\n      <td>NaN</td>\n      <td>NaN</td>\n      <td>NaN</td>\n      <td>NaN</td>\n      <td>NaN</td>\n      <td>NaN</td>\n      <td>NaN</td>\n      <td>NaN</td>\n      <td>-0.631422</td>\n      <td>0.000</td>\n      <td>NaN</td>\n      <td>NaN</td>\n      <td>NaN</td>\n      <td>NaN</td>\n    </tr>\n    <tr>\n      <th>sigma2</th>\n      <td>14.424073</td>\n      <td>0.000</td>\n      <td>NaN</td>\n      <td>0.467522</td>\n      <td>0.000</td>\n      <td>NaN</td>\n      <td>0.246903</td>\n      <td>0.000</td>\n      <td>NaN</td>\n      <td>0.147725</td>\n      <td>0.000</td>\n      <td>NaN</td>\n      <td>5.573194</td>\n      <td>0.000</td>\n      <td>NaN</td>\n      <td>2.966706</td>\n      <td>0.0</td>\n      <td>NaN</td>\n    </tr>\n    <tr>\n      <th>Order</th>\n      <td>NaN</td>\n      <td>NaN</td>\n      <td>(2, 1, 1)</td>\n      <td>NaN</td>\n      <td>NaN</td>\n      <td>(0, 0, 0)</td>\n      <td>NaN</td>\n      <td>NaN</td>\n      <td>(0, 0, 0)</td>\n      <td>NaN</td>\n      <td>NaN</td>\n      <td>(0, 0, 0)</td>\n      <td>NaN</td>\n      <td>NaN</td>\n      <td>(2, 0, 2)</td>\n      <td>NaN</td>\n      <td>NaN</td>\n      <td>(0, 0, 0)</td>\n    </tr>\n    <tr>\n      <th>SeasonOrder</th>\n      <td>NaN</td>\n      <td>NaN</td>\n      <td>(2, 0, 2, 7)</td>\n      <td>NaN</td>\n      <td>NaN</td>\n      <td>(0, 0, 0, 7)</td>\n      <td>NaN</td>\n      <td>NaN</td>\n      <td>(0, 0, 0, 7)</td>\n      <td>NaN</td>\n      <td>NaN</td>\n      <td>(0, 0, 0, 7)</td>\n      <td>NaN</td>\n      <td>NaN</td>\n      <td>(2, 0, 2, 7)</td>\n      <td>NaN</td>\n      <td>NaN</td>\n      <td>(0, 0, 0, 7)</td>\n    </tr>\n    <tr>\n      <th>AIC</th>\n      <td>NaN</td>\n      <td>NaN</td>\n      <td>1045.853956</td>\n      <td>NaN</td>\n      <td>NaN</td>\n      <td>390.352519</td>\n      <td>NaN</td>\n      <td>NaN</td>\n      <td>272.239929</td>\n      <td>NaN</td>\n      <td>NaN</td>\n      <td>177.217504</td>\n      <td>NaN</td>\n      <td>NaN</td>\n      <td>869.193272</td>\n      <td>NaN</td>\n      <td>NaN</td>\n      <td>732.181391</td>\n    </tr>\n    <tr>\n      <th>BIC</th>\n      <td>NaN</td>\n      <td>NaN</td>\n      <td>1078.003314</td>\n      <td>NaN</td>\n      <td>NaN</td>\n      <td>400.013586</td>\n      <td>NaN</td>\n      <td>NaN</td>\n      <td>281.900996</td>\n      <td>NaN</td>\n      <td>NaN</td>\n      <td>186.878571</td>\n      <td>NaN</td>\n      <td>NaN</td>\n      <td>904.617186</td>\n      <td>NaN</td>\n      <td>NaN</td>\n      <td>741.842459</td>\n    </tr>\n    <tr>\n      <th>MSE</th>\n      <td>NaN</td>\n      <td>NaN</td>\n      <td>15.222741</td>\n      <td>NaN</td>\n      <td>NaN</td>\n      <td>0.467528</td>\n      <td>NaN</td>\n      <td>NaN</td>\n      <td>0.246907</td>\n      <td>NaN</td>\n      <td>NaN</td>\n      <td>0.147729</td>\n      <td>NaN</td>\n      <td>NaN</td>\n      <td>5.703505</td>\n      <td>NaN</td>\n      <td>NaN</td>\n      <td>2.966633</td>\n    </tr>\n    <tr>\n      <th>RMSE</th>\n      <td>NaN</td>\n      <td>NaN</td>\n      <td>3.901633056050373</td>\n      <td>NaN</td>\n      <td>NaN</td>\n      <td>0.683760244945143</td>\n      <td>NaN</td>\n      <td>NaN</td>\n      <td>0.4968976754455667</td>\n      <td>NaN</td>\n      <td>NaN</td>\n      <td>0.3843550580659219</td>\n      <td>NaN</td>\n      <td>NaN</td>\n      <td>2.388201128699691</td>\n      <td>NaN</td>\n      <td>NaN</td>\n      <td>1.7223917462721312</td>\n    </tr>\n    <tr>\n      <th>ma.L2</th>\n      <td>NaN</td>\n      <td>NaN</td>\n      <td>NaN</td>\n      <td>NaN</td>\n      <td>NaN</td>\n      <td>NaN</td>\n      <td>NaN</td>\n      <td>NaN</td>\n      <td>NaN</td>\n      <td>NaN</td>\n      <td>NaN</td>\n      <td>NaN</td>\n      <td>0.974953</td>\n      <td>0.000</td>\n      <td>NaN</td>\n      <td>NaN</td>\n      <td>NaN</td>\n      <td>NaN</td>\n    </tr>\n  </tbody>\n</table>\n</div>"
     },
     "execution_count": 89,
     "metadata": {},
     "output_type": "execute_result"
    }
   ],
   "source": [
    "calc_auto_m(\"OfficerDosage\")\n"
   ],
   "metadata": {
    "collapsed": false,
    "pycharm": {
     "name": "#%%\n"
    }
   }
  },
  {
   "cell_type": "code",
   "execution_count": 29,
   "outputs": [
    {
     "data": {
      "text/plain": "<class 'statsmodels.iolib.summary.Summary'>\n\"\"\"\n                               SARIMAX Results                                \n==============================================================================\nDep. Variable:                      y   No. Observations:                  185\nModel:               SARIMAX(0, 1, 1)   Log Likelihood                -530.658\nDate:                Mon, 05 Jul 2021   AIC                           1067.317\nTime:                        16:56:24   BIC                           1076.962\nSample:                             0   HQIC                          1071.226\n                                - 185                                         \nCovariance Type:                  opg                                         \n=================================================================================\n                    coef    std err          z      P>|z|      [0.025      0.975]\n---------------------------------------------------------------------------------\nOfficerDosage     0.5746      0.077      7.451      0.000       0.423       0.726\nma.L1            -0.9739      0.020    -49.032      0.000      -1.013      -0.935\nsigma2           18.4310      1.121     16.438      0.000      16.233      20.629\n===================================================================================\nLjung-Box (L1) (Q):                   0.43   Jarque-Bera (JB):               165.04\nProb(Q):                              0.51   Prob(JB):                         0.00\nHeteroskedasticity (H):               0.89   Skew:                             1.49\nProb(H) (two-sided):                  0.66   Kurtosis:                         6.56\n===================================================================================\n\nWarnings:\n[1] Covariance matrix calculated using the outer product of gradients (complex-step).\n\"\"\"",
      "text/html": "<table class=\"simpletable\">\n<caption>SARIMAX Results</caption>\n<tr>\n  <th>Dep. Variable:</th>           <td>y</td>        <th>  No. Observations:  </th>    <td>185</td>  \n</tr>\n<tr>\n  <th>Model:</th>           <td>SARIMAX(0, 1, 1)</td> <th>  Log Likelihood     </th> <td>-530.658</td>\n</tr>\n<tr>\n  <th>Date:</th>            <td>Mon, 05 Jul 2021</td> <th>  AIC                </th> <td>1067.317</td>\n</tr>\n<tr>\n  <th>Time:</th>                <td>16:56:24</td>     <th>  BIC                </th> <td>1076.962</td>\n</tr>\n<tr>\n  <th>Sample:</th>                  <td>0</td>        <th>  HQIC               </th> <td>1071.226</td>\n</tr>\n<tr>\n  <th></th>                      <td> - 185</td>      <th>                     </th>     <td> </td>   \n</tr>\n<tr>\n  <th>Covariance Type:</th>        <td>opg</td>       <th>                     </th>     <td> </td>   \n</tr>\n</table>\n<table class=\"simpletable\">\n<tr>\n        <td></td>           <th>coef</th>     <th>std err</th>      <th>z</th>      <th>P>|z|</th>  <th>[0.025</th>    <th>0.975]</th>  \n</tr>\n<tr>\n  <th>OfficerDosage</th> <td>    0.5746</td> <td>    0.077</td> <td>    7.451</td> <td> 0.000</td> <td>    0.423</td> <td>    0.726</td>\n</tr>\n<tr>\n  <th>ma.L1</th>         <td>   -0.9739</td> <td>    0.020</td> <td>  -49.032</td> <td> 0.000</td> <td>   -1.013</td> <td>   -0.935</td>\n</tr>\n<tr>\n  <th>sigma2</th>        <td>   18.4310</td> <td>    1.121</td> <td>   16.438</td> <td> 0.000</td> <td>   16.233</td> <td>   20.629</td>\n</tr>\n</table>\n<table class=\"simpletable\">\n<tr>\n  <th>Ljung-Box (L1) (Q):</th>     <td>0.43</td> <th>  Jarque-Bera (JB):  </th> <td>165.04</td>\n</tr>\n<tr>\n  <th>Prob(Q):</th>                <td>0.51</td> <th>  Prob(JB):          </th>  <td>0.00</td> \n</tr>\n<tr>\n  <th>Heteroskedasticity (H):</th> <td>0.89</td> <th>  Skew:              </th>  <td>1.49</td> \n</tr>\n<tr>\n  <th>Prob(H) (two-sided):</th>    <td>0.66</td> <th>  Kurtosis:          </th>  <td>6.56</td> \n</tr>\n</table><br/><br/>Warnings:<br/>[1] Covariance matrix calculated using the outer product of gradients (complex-step)."
     },
     "execution_count": 29,
     "metadata": {},
     "output_type": "execute_result"
    }
   ],
   "source": [
    "features = ['OfficerDosage',  'Temp' , 'Humid' , 'Wind']\n",
    "\n",
    "auto = pm.auto_arima(combined['TNOs'],exogenous=combined[['OfficerDosage']])\n",
    "\n",
    "\n",
    "auto.summary()"
   ],
   "metadata": {
    "collapsed": false,
    "pycharm": {
     "name": "#%%\n"
    }
   }
  },
  {
   "cell_type": "markdown",
   "source": [
    "So the problem is officer dosage is perfectly correlating with our seasonality, and so it's getting killed off.\n",
    "\n",
    "What I'll do instead is take the TNO order I had above, and THEN add our officer details.  That should show us if even with covariance, we have a significante effect."
   ],
   "metadata": {
    "collapsed": false,
    "pycharm": {
     "name": "#%% md\n"
    }
   }
  },
  {
   "cell_type": "code",
   "execution_count": 44,
   "outputs": [
    {
     "data": {
      "text/plain": "<class 'statsmodels.iolib.summary.Summary'>\n\"\"\"\n                               SARIMAX Results                                \n==============================================================================\nDep. Variable:                      y   No. Observations:                  185\nModel:               SARIMAX(5, 1, 1)   Log Likelihood                -537.519\nDate:                Mon, 05 Jul 2021   AIC                           1089.038\nTime:                        17:17:19   BIC                           1111.542\nSample:                             0   HQIC                          1098.159\n                                - 185                                         \nCovariance Type:                  opg                                         \n==============================================================================\n                 coef    std err          z      P>|z|      [0.025      0.975]\n------------------------------------------------------------------------------\nar.L1         -0.0108      0.083     -0.131      0.896      -0.173       0.151\nar.L2         -0.0931      0.098     -0.951      0.342      -0.285       0.099\nar.L3         -0.2243      0.079     -2.843      0.004      -0.379      -0.070\nar.L4         -0.1986      0.100     -1.978      0.048      -0.395      -0.002\nar.L5         -0.1932      0.086     -2.258      0.024      -0.361      -0.026\nma.L1         -0.9343      0.031    -29.766      0.000      -0.996      -0.873\nsigma2        19.8007      1.574     12.577      0.000      16.715      22.886\n===================================================================================\nLjung-Box (L1) (Q):                   0.04   Jarque-Bera (JB):                85.38\nProb(Q):                              0.85   Prob(JB):                         0.00\nHeteroskedasticity (H):               0.96   Skew:                             1.24\nProb(H) (two-sided):                  0.86   Kurtosis:                         5.24\n===================================================================================\n\nWarnings:\n[1] Covariance matrix calculated using the outer product of gradients (complex-step).\n\"\"\"",
      "text/html": "<table class=\"simpletable\">\n<caption>SARIMAX Results</caption>\n<tr>\n  <th>Dep. Variable:</th>           <td>y</td>        <th>  No. Observations:  </th>    <td>185</td>  \n</tr>\n<tr>\n  <th>Model:</th>           <td>SARIMAX(5, 1, 1)</td> <th>  Log Likelihood     </th> <td>-537.519</td>\n</tr>\n<tr>\n  <th>Date:</th>            <td>Mon, 05 Jul 2021</td> <th>  AIC                </th> <td>1089.038</td>\n</tr>\n<tr>\n  <th>Time:</th>                <td>17:17:19</td>     <th>  BIC                </th> <td>1111.542</td>\n</tr>\n<tr>\n  <th>Sample:</th>                  <td>0</td>        <th>  HQIC               </th> <td>1098.159</td>\n</tr>\n<tr>\n  <th></th>                      <td> - 185</td>      <th>                     </th>     <td> </td>   \n</tr>\n<tr>\n  <th>Covariance Type:</th>        <td>opg</td>       <th>                     </th>     <td> </td>   \n</tr>\n</table>\n<table class=\"simpletable\">\n<tr>\n     <td></td>       <th>coef</th>     <th>std err</th>      <th>z</th>      <th>P>|z|</th>  <th>[0.025</th>    <th>0.975]</th>  \n</tr>\n<tr>\n  <th>ar.L1</th>  <td>   -0.0108</td> <td>    0.083</td> <td>   -0.131</td> <td> 0.896</td> <td>   -0.173</td> <td>    0.151</td>\n</tr>\n<tr>\n  <th>ar.L2</th>  <td>   -0.0931</td> <td>    0.098</td> <td>   -0.951</td> <td> 0.342</td> <td>   -0.285</td> <td>    0.099</td>\n</tr>\n<tr>\n  <th>ar.L3</th>  <td>   -0.2243</td> <td>    0.079</td> <td>   -2.843</td> <td> 0.004</td> <td>   -0.379</td> <td>   -0.070</td>\n</tr>\n<tr>\n  <th>ar.L4</th>  <td>   -0.1986</td> <td>    0.100</td> <td>   -1.978</td> <td> 0.048</td> <td>   -0.395</td> <td>   -0.002</td>\n</tr>\n<tr>\n  <th>ar.L5</th>  <td>   -0.1932</td> <td>    0.086</td> <td>   -2.258</td> <td> 0.024</td> <td>   -0.361</td> <td>   -0.026</td>\n</tr>\n<tr>\n  <th>ma.L1</th>  <td>   -0.9343</td> <td>    0.031</td> <td>  -29.766</td> <td> 0.000</td> <td>   -0.996</td> <td>   -0.873</td>\n</tr>\n<tr>\n  <th>sigma2</th> <td>   19.8007</td> <td>    1.574</td> <td>   12.577</td> <td> 0.000</td> <td>   16.715</td> <td>   22.886</td>\n</tr>\n</table>\n<table class=\"simpletable\">\n<tr>\n  <th>Ljung-Box (L1) (Q):</th>     <td>0.04</td> <th>  Jarque-Bera (JB):  </th> <td>85.38</td>\n</tr>\n<tr>\n  <th>Prob(Q):</th>                <td>0.85</td> <th>  Prob(JB):          </th> <td>0.00</td> \n</tr>\n<tr>\n  <th>Heteroskedasticity (H):</th> <td>0.96</td> <th>  Skew:              </th> <td>1.24</td> \n</tr>\n<tr>\n  <th>Prob(H) (two-sided):</th>    <td>0.86</td> <th>  Kurtosis:          </th> <td>5.24</td> \n</tr>\n</table><br/><br/>Warnings:<br/>[1] Covariance matrix calculated using the outer product of gradients (complex-step)."
     },
     "execution_count": 44,
     "metadata": {},
     "output_type": "execute_result"
    }
   ],
   "source": [
    "auto = pm.auto_arima(y= combined['TNOs'])\n",
    "auto.summary()"
   ],
   "metadata": {
    "collapsed": false,
    "pycharm": {
     "name": "#%%\n"
    }
   }
  },
  {
   "cell_type": "code",
   "execution_count": 41,
   "outputs": [
    {
     "name": "stderr",
     "output_type": "stream",
     "text": [
      "c:\\users\\admin\\dropbox\\data projects\\nte_hotspot_policing\\venv\\lib\\site-packages\\statsmodels\\base\\model.py:566: ConvergenceWarning: Maximum Likelihood optimization failed to converge. Check mle_retvals\n",
      "  warnings.warn(\"Maximum Likelihood optimization failed to \"\n"
     ]
    },
    {
     "data": {
      "text/plain": "<class 'statsmodels.iolib.summary.Summary'>\n\"\"\"\n                               SARIMAX Results                                \n==============================================================================\nDep. Variable:                   TNOs   No. Observations:                  185\nModel:                 ARIMA(5, 1, 1)   Log Likelihood                -528.545\nDate:                Mon, 05 Jul 2021   AIC                           1075.090\nTime:                        17:14:45   BIC                           1104.025\nSample:                             0   HQIC                          1086.818\n                                - 185                                         \nCovariance Type:                  opg                                         \n=================================================================================\n                    coef    std err          z      P>|z|      [0.025      0.975]\n---------------------------------------------------------------------------------\nOfficerDosage     0.5205      0.096      5.400      0.000       0.332       0.709\nTemp              0.0875      0.048      1.818      0.069      -0.007       0.182\nar.L1            -0.0256      0.089     -0.287      0.774      -0.201       0.149\nar.L2             0.0536      0.097      0.553      0.580      -0.136       0.244\nar.L3            -0.0831      0.089     -0.937      0.349      -0.257       0.091\nar.L4            -0.0741      0.113     -0.654      0.513      -0.296       0.148\nar.L5            -0.0736      0.105     -0.699      0.484      -0.280       0.133\nma.L1            -0.9999      4.312     -0.232      0.817      -9.452       7.452\nsigma2           17.7523     75.937      0.234      0.815    -131.082     166.586\n===================================================================================\nLjung-Box (L1) (Q):                   0.03   Jarque-Bera (JB):               188.80\nProb(Q):                              0.87   Prob(JB):                         0.00\nHeteroskedasticity (H):               0.88   Skew:                             1.53\nProb(H) (two-sided):                  0.62   Kurtosis:                         6.91\n===================================================================================\n\nWarnings:\n[1] Covariance matrix calculated using the outer product of gradients (complex-step).\n\"\"\"",
      "text/html": "<table class=\"simpletable\">\n<caption>SARIMAX Results</caption>\n<tr>\n  <th>Dep. Variable:</th>         <td>TNOs</td>       <th>  No. Observations:  </th>    <td>185</td>  \n</tr>\n<tr>\n  <th>Model:</th>            <td>ARIMA(5, 1, 1)</td>  <th>  Log Likelihood     </th> <td>-528.545</td>\n</tr>\n<tr>\n  <th>Date:</th>            <td>Mon, 05 Jul 2021</td> <th>  AIC                </th> <td>1075.090</td>\n</tr>\n<tr>\n  <th>Time:</th>                <td>17:14:45</td>     <th>  BIC                </th> <td>1104.025</td>\n</tr>\n<tr>\n  <th>Sample:</th>                  <td>0</td>        <th>  HQIC               </th> <td>1086.818</td>\n</tr>\n<tr>\n  <th></th>                      <td> - 185</td>      <th>                     </th>     <td> </td>   \n</tr>\n<tr>\n  <th>Covariance Type:</th>        <td>opg</td>       <th>                     </th>     <td> </td>   \n</tr>\n</table>\n<table class=\"simpletable\">\n<tr>\n        <td></td>           <th>coef</th>     <th>std err</th>      <th>z</th>      <th>P>|z|</th>  <th>[0.025</th>    <th>0.975]</th>  \n</tr>\n<tr>\n  <th>OfficerDosage</th> <td>    0.5205</td> <td>    0.096</td> <td>    5.400</td> <td> 0.000</td> <td>    0.332</td> <td>    0.709</td>\n</tr>\n<tr>\n  <th>Temp</th>          <td>    0.0875</td> <td>    0.048</td> <td>    1.818</td> <td> 0.069</td> <td>   -0.007</td> <td>    0.182</td>\n</tr>\n<tr>\n  <th>ar.L1</th>         <td>   -0.0256</td> <td>    0.089</td> <td>   -0.287</td> <td> 0.774</td> <td>   -0.201</td> <td>    0.149</td>\n</tr>\n<tr>\n  <th>ar.L2</th>         <td>    0.0536</td> <td>    0.097</td> <td>    0.553</td> <td> 0.580</td> <td>   -0.136</td> <td>    0.244</td>\n</tr>\n<tr>\n  <th>ar.L3</th>         <td>   -0.0831</td> <td>    0.089</td> <td>   -0.937</td> <td> 0.349</td> <td>   -0.257</td> <td>    0.091</td>\n</tr>\n<tr>\n  <th>ar.L4</th>         <td>   -0.0741</td> <td>    0.113</td> <td>   -0.654</td> <td> 0.513</td> <td>   -0.296</td> <td>    0.148</td>\n</tr>\n<tr>\n  <th>ar.L5</th>         <td>   -0.0736</td> <td>    0.105</td> <td>   -0.699</td> <td> 0.484</td> <td>   -0.280</td> <td>    0.133</td>\n</tr>\n<tr>\n  <th>ma.L1</th>         <td>   -0.9999</td> <td>    4.312</td> <td>   -0.232</td> <td> 0.817</td> <td>   -9.452</td> <td>    7.452</td>\n</tr>\n<tr>\n  <th>sigma2</th>        <td>   17.7523</td> <td>   75.937</td> <td>    0.234</td> <td> 0.815</td> <td> -131.082</td> <td>  166.586</td>\n</tr>\n</table>\n<table class=\"simpletable\">\n<tr>\n  <th>Ljung-Box (L1) (Q):</th>     <td>0.03</td> <th>  Jarque-Bera (JB):  </th> <td>188.80</td>\n</tr>\n<tr>\n  <th>Prob(Q):</th>                <td>0.87</td> <th>  Prob(JB):          </th>  <td>0.00</td> \n</tr>\n<tr>\n  <th>Heteroskedasticity (H):</th> <td>0.88</td> <th>  Skew:              </th>  <td>1.53</td> \n</tr>\n<tr>\n  <th>Prob(H) (two-sided):</th>    <td>0.62</td> <th>  Kurtosis:          </th>  <td>6.91</td> \n</tr>\n</table><br/><br/>Warnings:<br/>[1] Covariance matrix calculated using the outer product of gradients (complex-step)."
     },
     "execution_count": 41,
     "metadata": {},
     "output_type": "execute_result"
    }
   ],
   "source": [
    "model = ARIMA(combined['TNOs'], order=(5,1,1), exog=combined[['OfficerDosage', 'Temp']], dates=dates)\n",
    "model_fit = model.fit()\n",
    "model_fit.summary()"
   ],
   "metadata": {
    "collapsed": false,
    "pycharm": {
     "name": "#%%\n"
    }
   }
  },
  {
   "cell_type": "markdown",
   "source": [
    "Let's contrast this to a linear model where we know what day of the week it is.\n",
    "\n",
    "\n"
   ],
   "metadata": {
    "collapsed": false,
    "pycharm": {
     "name": "#%% md\n"
    }
   }
  },
  {
   "cell_type": "code",
   "execution_count": 47,
   "outputs": [
    {
     "data": {
      "text/plain": "    DayOfWeek       date       TNOs  OfficerDosage  isWeekend  Day of Week  \\\n0           4 2018-01-26   1.000000            0.0   1.000000     5.000000   \n1           5 2018-01-27   2.000000            0.0   1.000000     6.000000   \n2           6 2018-01-28   2.333333            0.0   0.666667     4.666667   \n3           0 2018-01-29   2.666667            0.0   0.333333     3.333333   \n4           1 2018-01-30   3.000000            0.0   0.000000     2.000000   \n..        ...        ...        ...            ...        ...          ...   \n180         1 2018-07-24   4.000000            0.0   0.000000     2.000000   \n181         2 2018-07-25   3.000000            0.0   0.000000     3.000000   \n182         3 2018-07-26   5.000000            0.0   0.000000     4.000000   \n183         4 2018-07-27  10.000000           17.0   1.000000     5.000000   \n184         5 2018-07-28  16.000000            7.0   1.000000     6.000000   \n\n     Drugs  Robbery  SexualOffences      Theft  ...  z_isWeekend  \\\n0      0.0      1.0             0.0   0.000000  ...     1.526464   \n1      0.0      0.0             0.0   1.000000  ...     1.526464   \n2      0.0      0.0             0.0   1.333333  ...     0.796759   \n3      0.0      0.0             0.0   1.666667  ...     0.067054   \n4      0.0      0.0             0.0   2.000000  ...    -0.662651   \n..     ...      ...             ...        ...  ...          ...   \n180    1.0      0.0             0.0   1.000000  ...    -0.662651   \n181    0.0      0.0             0.0   2.000000  ...    -0.662651   \n182    0.0      0.0             1.0   4.000000  ...    -0.662651   \n183    0.0      0.0             0.0   4.000000  ...     1.526464   \n184    1.0      1.0             0.0  10.000000  ...     1.526464   \n\n     z_Day of Week   z_Drugs  z_Robbery  z_SexualOffences   z_Theft     z_VAP  \\\n0         0.497042 -0.474193   1.358845         -0.349727 -1.065823 -1.052367   \n1         1.005068 -0.474193  -0.560135         -0.349727 -0.724686 -0.491307   \n2         0.327700 -0.474193  -0.560135         -0.349727 -0.610973 -0.678327   \n3        -0.349669 -0.474193  -0.560135         -0.349727 -0.497261 -0.865347   \n4        -1.027037 -0.474193  -0.560135         -0.349727 -0.383549 -1.052367   \n..             ...       ...        ...               ...       ...       ...   \n180      -1.027037  0.987903  -0.560135         -0.349727 -0.724686  0.069753   \n181      -0.519011 -0.474193  -0.560135         -0.349727 -0.383549 -1.052367   \n182      -0.010984 -0.474193  -0.560135          2.238255  0.298725 -1.052367   \n183       0.497042 -0.474193  -0.560135         -0.349727  0.298725  1.191874   \n184       1.005068  0.987903   1.358845         -0.349727  2.345547  0.630814   \n\n       z_Temp   z_Humid    z_Wind  \n0   -0.803641  0.464384 -1.471496  \n1   -0.229538  1.288659  0.885904  \n2   -0.323946  1.155177  0.869185  \n3   -0.418354  1.021696  0.852466  \n4   -0.512762  0.888215  0.835747  \n..        ...       ...       ...  \n180  1.921436 -1.595189 -0.518504  \n181  1.599938  0.444167  0.601678  \n182  2.396029 -2.244148 -0.618819  \n183  1.224858  0.423564 -0.167402  \n184  0.933978 -0.995529  1.136691  \n\n[185 rows x 26 columns]",
      "text/html": "<div>\n<style scoped>\n    .dataframe tbody tr th:only-of-type {\n        vertical-align: middle;\n    }\n\n    .dataframe tbody tr th {\n        vertical-align: top;\n    }\n\n    .dataframe thead th {\n        text-align: right;\n    }\n</style>\n<table border=\"1\" class=\"dataframe\">\n  <thead>\n    <tr style=\"text-align: right;\">\n      <th></th>\n      <th>DayOfWeek</th>\n      <th>date</th>\n      <th>TNOs</th>\n      <th>OfficerDosage</th>\n      <th>isWeekend</th>\n      <th>Day of Week</th>\n      <th>Drugs</th>\n      <th>Robbery</th>\n      <th>SexualOffences</th>\n      <th>Theft</th>\n      <th>...</th>\n      <th>z_isWeekend</th>\n      <th>z_Day of Week</th>\n      <th>z_Drugs</th>\n      <th>z_Robbery</th>\n      <th>z_SexualOffences</th>\n      <th>z_Theft</th>\n      <th>z_VAP</th>\n      <th>z_Temp</th>\n      <th>z_Humid</th>\n      <th>z_Wind</th>\n    </tr>\n  </thead>\n  <tbody>\n    <tr>\n      <th>0</th>\n      <td>4</td>\n      <td>2018-01-26</td>\n      <td>1.000000</td>\n      <td>0.0</td>\n      <td>1.000000</td>\n      <td>5.000000</td>\n      <td>0.0</td>\n      <td>1.0</td>\n      <td>0.0</td>\n      <td>0.000000</td>\n      <td>...</td>\n      <td>1.526464</td>\n      <td>0.497042</td>\n      <td>-0.474193</td>\n      <td>1.358845</td>\n      <td>-0.349727</td>\n      <td>-1.065823</td>\n      <td>-1.052367</td>\n      <td>-0.803641</td>\n      <td>0.464384</td>\n      <td>-1.471496</td>\n    </tr>\n    <tr>\n      <th>1</th>\n      <td>5</td>\n      <td>2018-01-27</td>\n      <td>2.000000</td>\n      <td>0.0</td>\n      <td>1.000000</td>\n      <td>6.000000</td>\n      <td>0.0</td>\n      <td>0.0</td>\n      <td>0.0</td>\n      <td>1.000000</td>\n      <td>...</td>\n      <td>1.526464</td>\n      <td>1.005068</td>\n      <td>-0.474193</td>\n      <td>-0.560135</td>\n      <td>-0.349727</td>\n      <td>-0.724686</td>\n      <td>-0.491307</td>\n      <td>-0.229538</td>\n      <td>1.288659</td>\n      <td>0.885904</td>\n    </tr>\n    <tr>\n      <th>2</th>\n      <td>6</td>\n      <td>2018-01-28</td>\n      <td>2.333333</td>\n      <td>0.0</td>\n      <td>0.666667</td>\n      <td>4.666667</td>\n      <td>0.0</td>\n      <td>0.0</td>\n      <td>0.0</td>\n      <td>1.333333</td>\n      <td>...</td>\n      <td>0.796759</td>\n      <td>0.327700</td>\n      <td>-0.474193</td>\n      <td>-0.560135</td>\n      <td>-0.349727</td>\n      <td>-0.610973</td>\n      <td>-0.678327</td>\n      <td>-0.323946</td>\n      <td>1.155177</td>\n      <td>0.869185</td>\n    </tr>\n    <tr>\n      <th>3</th>\n      <td>0</td>\n      <td>2018-01-29</td>\n      <td>2.666667</td>\n      <td>0.0</td>\n      <td>0.333333</td>\n      <td>3.333333</td>\n      <td>0.0</td>\n      <td>0.0</td>\n      <td>0.0</td>\n      <td>1.666667</td>\n      <td>...</td>\n      <td>0.067054</td>\n      <td>-0.349669</td>\n      <td>-0.474193</td>\n      <td>-0.560135</td>\n      <td>-0.349727</td>\n      <td>-0.497261</td>\n      <td>-0.865347</td>\n      <td>-0.418354</td>\n      <td>1.021696</td>\n      <td>0.852466</td>\n    </tr>\n    <tr>\n      <th>4</th>\n      <td>1</td>\n      <td>2018-01-30</td>\n      <td>3.000000</td>\n      <td>0.0</td>\n      <td>0.000000</td>\n      <td>2.000000</td>\n      <td>0.0</td>\n      <td>0.0</td>\n      <td>0.0</td>\n      <td>2.000000</td>\n      <td>...</td>\n      <td>-0.662651</td>\n      <td>-1.027037</td>\n      <td>-0.474193</td>\n      <td>-0.560135</td>\n      <td>-0.349727</td>\n      <td>-0.383549</td>\n      <td>-1.052367</td>\n      <td>-0.512762</td>\n      <td>0.888215</td>\n      <td>0.835747</td>\n    </tr>\n    <tr>\n      <th>...</th>\n      <td>...</td>\n      <td>...</td>\n      <td>...</td>\n      <td>...</td>\n      <td>...</td>\n      <td>...</td>\n      <td>...</td>\n      <td>...</td>\n      <td>...</td>\n      <td>...</td>\n      <td>...</td>\n      <td>...</td>\n      <td>...</td>\n      <td>...</td>\n      <td>...</td>\n      <td>...</td>\n      <td>...</td>\n      <td>...</td>\n      <td>...</td>\n      <td>...</td>\n      <td>...</td>\n    </tr>\n    <tr>\n      <th>180</th>\n      <td>1</td>\n      <td>2018-07-24</td>\n      <td>4.000000</td>\n      <td>0.0</td>\n      <td>0.000000</td>\n      <td>2.000000</td>\n      <td>1.0</td>\n      <td>0.0</td>\n      <td>0.0</td>\n      <td>1.000000</td>\n      <td>...</td>\n      <td>-0.662651</td>\n      <td>-1.027037</td>\n      <td>0.987903</td>\n      <td>-0.560135</td>\n      <td>-0.349727</td>\n      <td>-0.724686</td>\n      <td>0.069753</td>\n      <td>1.921436</td>\n      <td>-1.595189</td>\n      <td>-0.518504</td>\n    </tr>\n    <tr>\n      <th>181</th>\n      <td>2</td>\n      <td>2018-07-25</td>\n      <td>3.000000</td>\n      <td>0.0</td>\n      <td>0.000000</td>\n      <td>3.000000</td>\n      <td>0.0</td>\n      <td>0.0</td>\n      <td>0.0</td>\n      <td>2.000000</td>\n      <td>...</td>\n      <td>-0.662651</td>\n      <td>-0.519011</td>\n      <td>-0.474193</td>\n      <td>-0.560135</td>\n      <td>-0.349727</td>\n      <td>-0.383549</td>\n      <td>-1.052367</td>\n      <td>1.599938</td>\n      <td>0.444167</td>\n      <td>0.601678</td>\n    </tr>\n    <tr>\n      <th>182</th>\n      <td>3</td>\n      <td>2018-07-26</td>\n      <td>5.000000</td>\n      <td>0.0</td>\n      <td>0.000000</td>\n      <td>4.000000</td>\n      <td>0.0</td>\n      <td>0.0</td>\n      <td>1.0</td>\n      <td>4.000000</td>\n      <td>...</td>\n      <td>-0.662651</td>\n      <td>-0.010984</td>\n      <td>-0.474193</td>\n      <td>-0.560135</td>\n      <td>2.238255</td>\n      <td>0.298725</td>\n      <td>-1.052367</td>\n      <td>2.396029</td>\n      <td>-2.244148</td>\n      <td>-0.618819</td>\n    </tr>\n    <tr>\n      <th>183</th>\n      <td>4</td>\n      <td>2018-07-27</td>\n      <td>10.000000</td>\n      <td>17.0</td>\n      <td>1.000000</td>\n      <td>5.000000</td>\n      <td>0.0</td>\n      <td>0.0</td>\n      <td>0.0</td>\n      <td>4.000000</td>\n      <td>...</td>\n      <td>1.526464</td>\n      <td>0.497042</td>\n      <td>-0.474193</td>\n      <td>-0.560135</td>\n      <td>-0.349727</td>\n      <td>0.298725</td>\n      <td>1.191874</td>\n      <td>1.224858</td>\n      <td>0.423564</td>\n      <td>-0.167402</td>\n    </tr>\n    <tr>\n      <th>184</th>\n      <td>5</td>\n      <td>2018-07-28</td>\n      <td>16.000000</td>\n      <td>7.0</td>\n      <td>1.000000</td>\n      <td>6.000000</td>\n      <td>1.0</td>\n      <td>1.0</td>\n      <td>0.0</td>\n      <td>10.000000</td>\n      <td>...</td>\n      <td>1.526464</td>\n      <td>1.005068</td>\n      <td>0.987903</td>\n      <td>1.358845</td>\n      <td>-0.349727</td>\n      <td>2.345547</td>\n      <td>0.630814</td>\n      <td>0.933978</td>\n      <td>-0.995529</td>\n      <td>1.136691</td>\n    </tr>\n  </tbody>\n</table>\n<p>185 rows × 26 columns</p>\n</div>"
     },
     "execution_count": 47,
     "metadata": {},
     "output_type": "execute_result"
    }
   ],
   "source": [
    "combined"
   ],
   "metadata": {
    "collapsed": false,
    "pycharm": {
     "name": "#%%\n"
    }
   }
  },
  {
   "cell_type": "code",
   "execution_count": 54,
   "outputs": [],
   "source": [
    "combined[\"DayofWeek\"] = combined['date'].dt.weekday\n",
    "\n",
    "combined.loc[combined[\"DayofWeek\"]==4, 'Friday'] = 1\n",
    "combined.loc[combined[\"DayofWeek\"]==5, 'Saturday'] = 1\n",
    "combined.loc[combined[\"DayofWeek\"]==6, 'Sunday'] = 1\n",
    "combined[[\"Friday\", \"Saturday\", \"Sunday\"]] = combined[[\"Friday\", \"Saturday\", \"Sunday\"]].fillna(0)"
   ],
   "metadata": {
    "collapsed": false,
    "pycharm": {
     "name": "#%%\n"
    }
   }
  },
  {
   "cell_type": "code",
   "execution_count": 57,
   "outputs": [
    {
     "data": {
      "text/plain": "<class 'statsmodels.iolib.summary.Summary'>\n\"\"\"\n                            OLS Regression Results                            \n==============================================================================\nDep. Variable:                   TNOs   R-squared:                       0.442\nModel:                            OLS   Adj. R-squared:                  0.410\nMethod:                 Least Squares   F-statistic:                     13.80\nDate:                Mon, 05 Jul 2021   Prob (F-statistic):           9.45e-18\nTime:                        17:29:00   Log-Likelihood:                -495.21\nNo. Observations:                 185   AIC:                             1012.\nDf Residuals:                     174   BIC:                             1048.\nDf Model:                          10                                         \nCovariance Type:            nonrobust                                         \n===================================================================================================\n                                      coef    std err          t      P>|t|      [0.025      0.975]\n---------------------------------------------------------------------------------------------------\nIntercept                           4.0340      0.886      4.553      0.000       2.285       5.783\nC(DayofWeek)[T.1]                  -0.6683      1.006     -0.664      0.508      -2.655       1.318\nC(DayofWeek)[T.2]                   0.5401      1.007      0.537      0.592      -1.447       2.527\nC(DayofWeek)[T.3]                   0.2451      1.006      0.244      0.808      -1.741       2.231\nC(DayofWeek)[T.4]                   1.2531      1.588      0.789      0.431      -1.881       4.387\nC(DayofWeek)[T.5]                   8.7729      1.418      6.188      0.000       5.975      11.571\nC(DayofWeek)[T.6]                   0.1813      1.016      0.178      0.859      -1.825       2.187\nOfficerDosage                       0.1563      0.931      0.168      0.867      -1.681       1.994\nC(DayofWeek)[T.1]:OfficerDosage -7.483e-17    3.6e-16     -0.208      0.836   -7.86e-16    6.37e-16\nC(DayofWeek)[T.2]:OfficerDosage  8.542e-17    9.3e-16      0.092      0.927   -1.75e-15    1.92e-15\nC(DayofWeek)[T.3]:OfficerDosage  1.853e-17   1.48e-17      1.251      0.213   -1.07e-17    4.78e-17\nC(DayofWeek)[T.4]:OfficerDosage     0.1862      0.938      0.198      0.843      -1.666       2.038\nC(DayofWeek)[T.5]:OfficerDosage    -0.2619      0.950     -0.276      0.783      -2.138       1.614\nC(DayofWeek)[T.6]:OfficerDosage     0.2320      2.785      0.083      0.934      -5.264       5.728\nTemp                                0.0711      0.041      1.732      0.085      -0.010       0.152\n==============================================================================\nOmnibus:                       28.805   Durbin-Watson:                   1.885\nProb(Omnibus):                  0.000   Jarque-Bera (JB):               62.739\nSkew:                           0.705   Prob(JB):                     2.38e-14\nKurtosis:                       5.481   Cond. No.                     6.96e+19\n==============================================================================\n\nNotes:\n[1] Standard Errors assume that the covariance matrix of the errors is correctly specified.\n[2] The smallest eigenvalue is 7.89e-36. This might indicate that there are\nstrong multicollinearity problems or that the design matrix is singular.\n\"\"\"",
      "text/html": "<table class=\"simpletable\">\n<caption>OLS Regression Results</caption>\n<tr>\n  <th>Dep. Variable:</th>          <td>TNOs</td>       <th>  R-squared:         </th> <td>   0.442</td>\n</tr>\n<tr>\n  <th>Model:</th>                   <td>OLS</td>       <th>  Adj. R-squared:    </th> <td>   0.410</td>\n</tr>\n<tr>\n  <th>Method:</th>             <td>Least Squares</td>  <th>  F-statistic:       </th> <td>   13.80</td>\n</tr>\n<tr>\n  <th>Date:</th>             <td>Mon, 05 Jul 2021</td> <th>  Prob (F-statistic):</th> <td>9.45e-18</td>\n</tr>\n<tr>\n  <th>Time:</th>                 <td>17:29:00</td>     <th>  Log-Likelihood:    </th> <td> -495.21</td>\n</tr>\n<tr>\n  <th>No. Observations:</th>      <td>   185</td>      <th>  AIC:               </th> <td>   1012.</td>\n</tr>\n<tr>\n  <th>Df Residuals:</th>          <td>   174</td>      <th>  BIC:               </th> <td>   1048.</td>\n</tr>\n<tr>\n  <th>Df Model:</th>              <td>    10</td>      <th>                     </th>     <td> </td>   \n</tr>\n<tr>\n  <th>Covariance Type:</th>      <td>nonrobust</td>    <th>                     </th>     <td> </td>   \n</tr>\n</table>\n<table class=\"simpletable\">\n<tr>\n                 <td></td>                    <th>coef</th>     <th>std err</th>      <th>t</th>      <th>P>|t|</th>  <th>[0.025</th>    <th>0.975]</th>  \n</tr>\n<tr>\n  <th>Intercept</th>                       <td>    4.0340</td> <td>    0.886</td> <td>    4.553</td> <td> 0.000</td> <td>    2.285</td> <td>    5.783</td>\n</tr>\n<tr>\n  <th>C(DayofWeek)[T.1]</th>               <td>   -0.6683</td> <td>    1.006</td> <td>   -0.664</td> <td> 0.508</td> <td>   -2.655</td> <td>    1.318</td>\n</tr>\n<tr>\n  <th>C(DayofWeek)[T.2]</th>               <td>    0.5401</td> <td>    1.007</td> <td>    0.537</td> <td> 0.592</td> <td>   -1.447</td> <td>    2.527</td>\n</tr>\n<tr>\n  <th>C(DayofWeek)[T.3]</th>               <td>    0.2451</td> <td>    1.006</td> <td>    0.244</td> <td> 0.808</td> <td>   -1.741</td> <td>    2.231</td>\n</tr>\n<tr>\n  <th>C(DayofWeek)[T.4]</th>               <td>    1.2531</td> <td>    1.588</td> <td>    0.789</td> <td> 0.431</td> <td>   -1.881</td> <td>    4.387</td>\n</tr>\n<tr>\n  <th>C(DayofWeek)[T.5]</th>               <td>    8.7729</td> <td>    1.418</td> <td>    6.188</td> <td> 0.000</td> <td>    5.975</td> <td>   11.571</td>\n</tr>\n<tr>\n  <th>C(DayofWeek)[T.6]</th>               <td>    0.1813</td> <td>    1.016</td> <td>    0.178</td> <td> 0.859</td> <td>   -1.825</td> <td>    2.187</td>\n</tr>\n<tr>\n  <th>OfficerDosage</th>                   <td>    0.1563</td> <td>    0.931</td> <td>    0.168</td> <td> 0.867</td> <td>   -1.681</td> <td>    1.994</td>\n</tr>\n<tr>\n  <th>C(DayofWeek)[T.1]:OfficerDosage</th> <td>-7.483e-17</td> <td>  3.6e-16</td> <td>   -0.208</td> <td> 0.836</td> <td>-7.86e-16</td> <td> 6.37e-16</td>\n</tr>\n<tr>\n  <th>C(DayofWeek)[T.2]:OfficerDosage</th> <td> 8.542e-17</td> <td>  9.3e-16</td> <td>    0.092</td> <td> 0.927</td> <td>-1.75e-15</td> <td> 1.92e-15</td>\n</tr>\n<tr>\n  <th>C(DayofWeek)[T.3]:OfficerDosage</th> <td> 1.853e-17</td> <td> 1.48e-17</td> <td>    1.251</td> <td> 0.213</td> <td>-1.07e-17</td> <td> 4.78e-17</td>\n</tr>\n<tr>\n  <th>C(DayofWeek)[T.4]:OfficerDosage</th> <td>    0.1862</td> <td>    0.938</td> <td>    0.198</td> <td> 0.843</td> <td>   -1.666</td> <td>    2.038</td>\n</tr>\n<tr>\n  <th>C(DayofWeek)[T.5]:OfficerDosage</th> <td>   -0.2619</td> <td>    0.950</td> <td>   -0.276</td> <td> 0.783</td> <td>   -2.138</td> <td>    1.614</td>\n</tr>\n<tr>\n  <th>C(DayofWeek)[T.6]:OfficerDosage</th> <td>    0.2320</td> <td>    2.785</td> <td>    0.083</td> <td> 0.934</td> <td>   -5.264</td> <td>    5.728</td>\n</tr>\n<tr>\n  <th>Temp</th>                            <td>    0.0711</td> <td>    0.041</td> <td>    1.732</td> <td> 0.085</td> <td>   -0.010</td> <td>    0.152</td>\n</tr>\n</table>\n<table class=\"simpletable\">\n<tr>\n  <th>Omnibus:</th>       <td>28.805</td> <th>  Durbin-Watson:     </th> <td>   1.885</td>\n</tr>\n<tr>\n  <th>Prob(Omnibus):</th> <td> 0.000</td> <th>  Jarque-Bera (JB):  </th> <td>  62.739</td>\n</tr>\n<tr>\n  <th>Skew:</th>          <td> 0.705</td> <th>  Prob(JB):          </th> <td>2.38e-14</td>\n</tr>\n<tr>\n  <th>Kurtosis:</th>      <td> 5.481</td> <th>  Cond. No.          </th> <td>6.96e+19</td>\n</tr>\n</table><br/><br/>Notes:<br/>[1] Standard Errors assume that the covariance matrix of the errors is correctly specified.<br/>[2] The smallest eigenvalue is 7.89e-36. This might indicate that there are<br/>strong multicollinearity problems or that the design matrix is singular."
     },
     "execution_count": 57,
     "metadata": {},
     "output_type": "execute_result"
    }
   ],
   "source": [
    "import statsmodels.formula.api as smf\n",
    "\n",
    "mod = smf.ols(formula='TNOs ~ C(DayofWeek)*OfficerDosage + Temp', data=combined)\n",
    "res = mod.fit()\n",
    "res.summary()"
   ],
   "metadata": {
    "collapsed": false,
    "pycharm": {
     "name": "#%%\n"
    }
   }
  },
  {
   "cell_type": "code",
   "execution_count": 64,
   "outputs": [
    {
     "data": {
      "text/plain": "<class 'statsmodels.iolib.summary.Summary'>\n\"\"\"\n                            OLS Regression Results                            \n==============================================================================\nDep. Variable:                   TNOs   R-squared:                       0.431\nModel:                            OLS   Adj. R-squared:                  0.415\nMethod:                 Least Squares   F-statistic:                     27.08\nDate:                Mon, 05 Jul 2021   Prob (F-statistic):           2.38e-20\nTime:                        17:32:13   Log-Likelihood:                -497.11\nNo. Observations:                 185   AIC:                             1006.\nDf Residuals:                     179   BIC:                             1026.\nDf Model:                           5                                         \nCovariance Type:            nonrobust                                         \n======================================================================================\n                         coef    std err          t      P>|t|      [0.025      0.975]\n--------------------------------------------------------------------------------------\nIntercept              4.0739      0.619      6.586      0.000       2.853       5.295\nC(Friday)[T.1.0]       2.1352      1.311      1.629      0.105      -0.451       4.721\nC(Saturday)[T.1.0]     7.5115      0.936      8.021      0.000       5.664       9.359\nC(Sunday)[T.1.0]       0.1585      0.792      0.200      0.842      -1.405       1.722\nOfficerDosage          0.2239      0.138      1.620      0.107      -0.049       0.496\nTemp                   0.0702      0.041      1.725      0.086      -0.010       0.151\n==============================================================================\nOmnibus:                       29.316   Durbin-Watson:                   1.913\nProb(Omnibus):                  0.000   Jarque-Bera (JB):               63.532\nSkew:                           0.719   Prob(JB):                     1.60e-14\nKurtosis:                       5.485   Cond. No.                         78.8\n==============================================================================\n\nNotes:\n[1] Standard Errors assume that the covariance matrix of the errors is correctly specified.\n\"\"\"",
      "text/html": "<table class=\"simpletable\">\n<caption>OLS Regression Results</caption>\n<tr>\n  <th>Dep. Variable:</th>          <td>TNOs</td>       <th>  R-squared:         </th> <td>   0.431</td>\n</tr>\n<tr>\n  <th>Model:</th>                   <td>OLS</td>       <th>  Adj. R-squared:    </th> <td>   0.415</td>\n</tr>\n<tr>\n  <th>Method:</th>             <td>Least Squares</td>  <th>  F-statistic:       </th> <td>   27.08</td>\n</tr>\n<tr>\n  <th>Date:</th>             <td>Mon, 05 Jul 2021</td> <th>  Prob (F-statistic):</th> <td>2.38e-20</td>\n</tr>\n<tr>\n  <th>Time:</th>                 <td>17:32:13</td>     <th>  Log-Likelihood:    </th> <td> -497.11</td>\n</tr>\n<tr>\n  <th>No. Observations:</th>      <td>   185</td>      <th>  AIC:               </th> <td>   1006.</td>\n</tr>\n<tr>\n  <th>Df Residuals:</th>          <td>   179</td>      <th>  BIC:               </th> <td>   1026.</td>\n</tr>\n<tr>\n  <th>Df Model:</th>              <td>     5</td>      <th>                     </th>     <td> </td>   \n</tr>\n<tr>\n  <th>Covariance Type:</th>      <td>nonrobust</td>    <th>                     </th>     <td> </td>   \n</tr>\n</table>\n<table class=\"simpletable\">\n<tr>\n           <td></td>             <th>coef</th>     <th>std err</th>      <th>t</th>      <th>P>|t|</th>  <th>[0.025</th>    <th>0.975]</th>  \n</tr>\n<tr>\n  <th>Intercept</th>          <td>    4.0739</td> <td>    0.619</td> <td>    6.586</td> <td> 0.000</td> <td>    2.853</td> <td>    5.295</td>\n</tr>\n<tr>\n  <th>C(Friday)[T.1.0]</th>   <td>    2.1352</td> <td>    1.311</td> <td>    1.629</td> <td> 0.105</td> <td>   -0.451</td> <td>    4.721</td>\n</tr>\n<tr>\n  <th>C(Saturday)[T.1.0]</th> <td>    7.5115</td> <td>    0.936</td> <td>    8.021</td> <td> 0.000</td> <td>    5.664</td> <td>    9.359</td>\n</tr>\n<tr>\n  <th>C(Sunday)[T.1.0]</th>   <td>    0.1585</td> <td>    0.792</td> <td>    0.200</td> <td> 0.842</td> <td>   -1.405</td> <td>    1.722</td>\n</tr>\n<tr>\n  <th>OfficerDosage</th>      <td>    0.2239</td> <td>    0.138</td> <td>    1.620</td> <td> 0.107</td> <td>   -0.049</td> <td>    0.496</td>\n</tr>\n<tr>\n  <th>Temp</th>               <td>    0.0702</td> <td>    0.041</td> <td>    1.725</td> <td> 0.086</td> <td>   -0.010</td> <td>    0.151</td>\n</tr>\n</table>\n<table class=\"simpletable\">\n<tr>\n  <th>Omnibus:</th>       <td>29.316</td> <th>  Durbin-Watson:     </th> <td>   1.913</td>\n</tr>\n<tr>\n  <th>Prob(Omnibus):</th> <td> 0.000</td> <th>  Jarque-Bera (JB):  </th> <td>  63.532</td>\n</tr>\n<tr>\n  <th>Skew:</th>          <td> 0.719</td> <th>  Prob(JB):          </th> <td>1.60e-14</td>\n</tr>\n<tr>\n  <th>Kurtosis:</th>      <td> 5.485</td> <th>  Cond. No.          </th> <td>    78.8</td>\n</tr>\n</table><br/><br/>Notes:<br/>[1] Standard Errors assume that the covariance matrix of the errors is correctly specified."
     },
     "execution_count": 64,
     "metadata": {},
     "output_type": "execute_result"
    }
   ],
   "source": [
    "import statsmodels.formula.api as smf\n",
    "\n",
    "mod = smf.ols(formula='TNOs ~ + C(Friday) + C(Saturday) + C(Sunday) + OfficerDosage + Temp', data=combined)\n",
    "res = mod.fit()\n",
    "res.summary()"
   ],
   "metadata": {
    "collapsed": false,
    "pycharm": {
     "name": "#%%\n"
    }
   }
  },
  {
   "cell_type": "code",
   "execution_count": 68,
   "outputs": [
    {
     "data": {
      "text/plain": "['TNOs', 'Drugs', 'Robbery', 'SexualOffences', 'Theft', 'VAP']"
     },
     "execution_count": 68,
     "metadata": {},
     "output_type": "execute_result"
    }
   ],
   "source": [
    "crimes"
   ],
   "metadata": {
    "collapsed": false,
    "pycharm": {
     "name": "#%%\n"
    }
   }
  },
  {
   "cell_type": "code",
   "execution_count": 71,
   "outputs": [
    {
     "data": {
      "text/plain": "<class 'statsmodels.iolib.summary.Summary'>\n\"\"\"\n                            OLS Regression Results                            \n==============================================================================\nDep. Variable:         SexualOffences   R-squared:                       0.086\nModel:                            OLS   Adj. R-squared:                  0.055\nMethod:                 Least Squares   F-statistic:                     2.776\nDate:                Mon, 05 Jul 2021   Prob (F-statistic):             0.0132\nTime:                        17:34:06   Log-Likelihood:                -78.317\nNo. Observations:                 185   AIC:                             170.6\nDf Residuals:                     178   BIC:                             193.2\nDf Model:                           6                                         \nCovariance Type:            nonrobust                                         \n====================================================================================================\n                                       coef    std err          t      P>|t|      [0.025      0.975]\n----------------------------------------------------------------------------------------------------\nIntercept                            0.0233      0.064      0.361      0.718      -0.104       0.151\nC(Friday)[T.1.0]                    -0.0411      0.152     -0.270      0.787      -0.341       0.259\nC(Saturday)[T.1.0]                  -0.1350      0.133     -1.018      0.310      -0.397       0.127\nC(Sunday)[T.1.0]                     0.1430      0.083      1.732      0.085      -0.020       0.306\nOfficerDosage                        0.0079      0.017      0.468      0.640      -0.025       0.041\nC(Saturday)[T.1.0]:OfficerDosage     0.0737      0.033      2.258      0.025       0.009       0.138\nTemp                                 0.0051      0.004      1.196      0.233      -0.003       0.013\n==============================================================================\nOmnibus:                      132.865   Durbin-Watson:                   2.000\nProb(Omnibus):                  0.000   Jarque-Bera (JB):              910.091\nSkew:                           2.839   Prob(JB):                    2.38e-198\nKurtosis:                      12.265   Cond. No.                         80.1\n==============================================================================\n\nNotes:\n[1] Standard Errors assume that the covariance matrix of the errors is correctly specified.\n\"\"\"",
      "text/html": "<table class=\"simpletable\">\n<caption>OLS Regression Results</caption>\n<tr>\n  <th>Dep. Variable:</th>     <td>SexualOffences</td>  <th>  R-squared:         </th> <td>   0.086</td>\n</tr>\n<tr>\n  <th>Model:</th>                   <td>OLS</td>       <th>  Adj. R-squared:    </th> <td>   0.055</td>\n</tr>\n<tr>\n  <th>Method:</th>             <td>Least Squares</td>  <th>  F-statistic:       </th> <td>   2.776</td>\n</tr>\n<tr>\n  <th>Date:</th>             <td>Mon, 05 Jul 2021</td> <th>  Prob (F-statistic):</th>  <td>0.0132</td> \n</tr>\n<tr>\n  <th>Time:</th>                 <td>17:34:06</td>     <th>  Log-Likelihood:    </th> <td> -78.317</td>\n</tr>\n<tr>\n  <th>No. Observations:</th>      <td>   185</td>      <th>  AIC:               </th> <td>   170.6</td>\n</tr>\n<tr>\n  <th>Df Residuals:</th>          <td>   178</td>      <th>  BIC:               </th> <td>   193.2</td>\n</tr>\n<tr>\n  <th>Df Model:</th>              <td>     6</td>      <th>                     </th>     <td> </td>   \n</tr>\n<tr>\n  <th>Covariance Type:</th>      <td>nonrobust</td>    <th>                     </th>     <td> </td>   \n</tr>\n</table>\n<table class=\"simpletable\">\n<tr>\n                  <td></td>                    <th>coef</th>     <th>std err</th>      <th>t</th>      <th>P>|t|</th>  <th>[0.025</th>    <th>0.975]</th>  \n</tr>\n<tr>\n  <th>Intercept</th>                        <td>    0.0233</td> <td>    0.064</td> <td>    0.361</td> <td> 0.718</td> <td>   -0.104</td> <td>    0.151</td>\n</tr>\n<tr>\n  <th>C(Friday)[T.1.0]</th>                 <td>   -0.0411</td> <td>    0.152</td> <td>   -0.270</td> <td> 0.787</td> <td>   -0.341</td> <td>    0.259</td>\n</tr>\n<tr>\n  <th>C(Saturday)[T.1.0]</th>               <td>   -0.1350</td> <td>    0.133</td> <td>   -1.018</td> <td> 0.310</td> <td>   -0.397</td> <td>    0.127</td>\n</tr>\n<tr>\n  <th>C(Sunday)[T.1.0]</th>                 <td>    0.1430</td> <td>    0.083</td> <td>    1.732</td> <td> 0.085</td> <td>   -0.020</td> <td>    0.306</td>\n</tr>\n<tr>\n  <th>OfficerDosage</th>                    <td>    0.0079</td> <td>    0.017</td> <td>    0.468</td> <td> 0.640</td> <td>   -0.025</td> <td>    0.041</td>\n</tr>\n<tr>\n  <th>C(Saturday)[T.1.0]:OfficerDosage</th> <td>    0.0737</td> <td>    0.033</td> <td>    2.258</td> <td> 0.025</td> <td>    0.009</td> <td>    0.138</td>\n</tr>\n<tr>\n  <th>Temp</th>                             <td>    0.0051</td> <td>    0.004</td> <td>    1.196</td> <td> 0.233</td> <td>   -0.003</td> <td>    0.013</td>\n</tr>\n</table>\n<table class=\"simpletable\">\n<tr>\n  <th>Omnibus:</th>       <td>132.865</td> <th>  Durbin-Watson:     </th> <td>   2.000</td> \n</tr>\n<tr>\n  <th>Prob(Omnibus):</th> <td> 0.000</td>  <th>  Jarque-Bera (JB):  </th> <td> 910.091</td> \n</tr>\n<tr>\n  <th>Skew:</th>          <td> 2.839</td>  <th>  Prob(JB):          </th> <td>2.38e-198</td>\n</tr>\n<tr>\n  <th>Kurtosis:</th>      <td>12.265</td>  <th>  Cond. No.          </th> <td>    80.1</td> \n</tr>\n</table><br/><br/>Notes:<br/>[1] Standard Errors assume that the covariance matrix of the errors is correctly specified."
     },
     "execution_count": 71,
     "metadata": {},
     "output_type": "execute_result"
    }
   ],
   "source": [
    "mod = smf.ols(formula='SexualOffences ~ + C(Friday) + C(Saturday)*OfficerDosage + C(Sunday) + Temp', data=combined)\n",
    "res = mod.fit()\n",
    "res.summary()"
   ],
   "metadata": {
    "collapsed": false,
    "pycharm": {
     "name": "#%%\n"
    }
   }
  },
  {
   "cell_type": "code",
   "execution_count": 77,
   "outputs": [],
   "source": [
    "result_df = pd.DataFrame()\n",
    "\n",
    "for crime in crimes:\n",
    "    mod = smf.ols(formula=crime + ' ~ + C(Friday) + C(Saturday)*OfficerDosage + C(Sunday) + Temp', data=combined)\n",
    "    res = mod.fit()\n",
    "    result_df[crime+\"_p\"] = res.pvalues.round(3)\n",
    "    result_df[crime+\"_param\"] = res.params.round(3)\n"
   ],
   "metadata": {
    "collapsed": false,
    "pycharm": {
     "name": "#%%\n"
    }
   }
  },
  {
   "cell_type": "code",
   "execution_count": 78,
   "outputs": [
    {
     "data": {
      "text/plain": "                                  TNOs_p  TNOs_param  Drugs_p  Drugs_param  \\\nIntercept                          0.000       4.062    0.294        0.123   \nC(Friday)[T.1.0]                   0.401       1.223    0.956       -0.015   \nC(Saturday)[T.1.0]                 0.000       8.744    0.429       -0.191   \nC(Sunday)[T.1.0]                   0.846       0.154    0.687       -0.060   \nOfficerDosage                      0.034       0.343    0.897       -0.004   \nC(Saturday)[T.1.0]:OfficerDosage   0.153      -0.448    0.212        0.074   \nTemp                               0.081       0.071    0.035        0.016   \n\n                                  Robbery_p  Robbery_param  SexualOffences_p  \\\nIntercept                             0.008          0.226             0.718   \nC(Friday)[T.1.0]                      0.712         -0.073             0.787   \nC(Saturday)[T.1.0]                    0.004          0.503             0.310   \nC(Sunday)[T.1.0]                      0.240         -0.127             0.085   \nOfficerDosage                         0.028          0.048             0.640   \nC(Saturday)[T.1.0]:OfficerDosage      0.110         -0.068             0.025   \nTemp                                  0.722         -0.002             0.233   \n\n                                  SexualOffences_param  Theft_p  Theft_param  \\\nIntercept                                        0.023    0.000        2.009   \nC(Friday)[T.1.0]                                -0.041    0.215        1.129   \nC(Saturday)[T.1.0]                              -0.135    0.000        5.851   \nC(Sunday)[T.1.0]                                 0.143    0.369        0.443   \nOfficerDosage                                    0.008    0.088        0.172   \nC(Saturday)[T.1.0]:OfficerDosage                 0.074    0.119       -0.305   \nTemp                                             0.005    0.754       -0.008   \n\n                                  VAP_p  VAP_param  \nIntercept                         0.000      1.098  \nC(Friday)[T.1.0]                  0.925      0.064  \nC(Saturday)[T.1.0]                0.005      1.675  \nC(Sunday)[T.1.0]                  0.862     -0.064  \nOfficerDosage                     0.175      0.102  \nC(Saturday)[T.1.0]:OfficerDosage  0.517     -0.094  \nTemp                              0.086      0.033  ",
      "text/html": "<div>\n<style scoped>\n    .dataframe tbody tr th:only-of-type {\n        vertical-align: middle;\n    }\n\n    .dataframe tbody tr th {\n        vertical-align: top;\n    }\n\n    .dataframe thead th {\n        text-align: right;\n    }\n</style>\n<table border=\"1\" class=\"dataframe\">\n  <thead>\n    <tr style=\"text-align: right;\">\n      <th></th>\n      <th>TNOs_p</th>\n      <th>TNOs_param</th>\n      <th>Drugs_p</th>\n      <th>Drugs_param</th>\n      <th>Robbery_p</th>\n      <th>Robbery_param</th>\n      <th>SexualOffences_p</th>\n      <th>SexualOffences_param</th>\n      <th>Theft_p</th>\n      <th>Theft_param</th>\n      <th>VAP_p</th>\n      <th>VAP_param</th>\n    </tr>\n  </thead>\n  <tbody>\n    <tr>\n      <th>Intercept</th>\n      <td>0.000</td>\n      <td>4.062</td>\n      <td>0.294</td>\n      <td>0.123</td>\n      <td>0.008</td>\n      <td>0.226</td>\n      <td>0.718</td>\n      <td>0.023</td>\n      <td>0.000</td>\n      <td>2.009</td>\n      <td>0.000</td>\n      <td>1.098</td>\n    </tr>\n    <tr>\n      <th>C(Friday)[T.1.0]</th>\n      <td>0.401</td>\n      <td>1.223</td>\n      <td>0.956</td>\n      <td>-0.015</td>\n      <td>0.712</td>\n      <td>-0.073</td>\n      <td>0.787</td>\n      <td>-0.041</td>\n      <td>0.215</td>\n      <td>1.129</td>\n      <td>0.925</td>\n      <td>0.064</td>\n    </tr>\n    <tr>\n      <th>C(Saturday)[T.1.0]</th>\n      <td>0.000</td>\n      <td>8.744</td>\n      <td>0.429</td>\n      <td>-0.191</td>\n      <td>0.004</td>\n      <td>0.503</td>\n      <td>0.310</td>\n      <td>-0.135</td>\n      <td>0.000</td>\n      <td>5.851</td>\n      <td>0.005</td>\n      <td>1.675</td>\n    </tr>\n    <tr>\n      <th>C(Sunday)[T.1.0]</th>\n      <td>0.846</td>\n      <td>0.154</td>\n      <td>0.687</td>\n      <td>-0.060</td>\n      <td>0.240</td>\n      <td>-0.127</td>\n      <td>0.085</td>\n      <td>0.143</td>\n      <td>0.369</td>\n      <td>0.443</td>\n      <td>0.862</td>\n      <td>-0.064</td>\n    </tr>\n    <tr>\n      <th>OfficerDosage</th>\n      <td>0.034</td>\n      <td>0.343</td>\n      <td>0.897</td>\n      <td>-0.004</td>\n      <td>0.028</td>\n      <td>0.048</td>\n      <td>0.640</td>\n      <td>0.008</td>\n      <td>0.088</td>\n      <td>0.172</td>\n      <td>0.175</td>\n      <td>0.102</td>\n    </tr>\n    <tr>\n      <th>C(Saturday)[T.1.0]:OfficerDosage</th>\n      <td>0.153</td>\n      <td>-0.448</td>\n      <td>0.212</td>\n      <td>0.074</td>\n      <td>0.110</td>\n      <td>-0.068</td>\n      <td>0.025</td>\n      <td>0.074</td>\n      <td>0.119</td>\n      <td>-0.305</td>\n      <td>0.517</td>\n      <td>-0.094</td>\n    </tr>\n    <tr>\n      <th>Temp</th>\n      <td>0.081</td>\n      <td>0.071</td>\n      <td>0.035</td>\n      <td>0.016</td>\n      <td>0.722</td>\n      <td>-0.002</td>\n      <td>0.233</td>\n      <td>0.005</td>\n      <td>0.754</td>\n      <td>-0.008</td>\n      <td>0.086</td>\n      <td>0.033</td>\n    </tr>\n  </tbody>\n</table>\n</div>"
     },
     "execution_count": 78,
     "metadata": {},
     "output_type": "execute_result"
    }
   ],
   "source": [
    "result_df"
   ],
   "metadata": {
    "collapsed": false,
    "pycharm": {
     "name": "#%%\n"
    }
   }
  },
  {
   "cell_type": "code",
   "execution_count": 63,
   "outputs": [
    {
     "data": {
      "text/plain": "     OfficerDosage DayOfWeek\n120            5.0         5\n113            5.0         5\n149            5.0         5\n85             6.0         5\n15             6.0         5\n42             6.0         4\n35             6.0         4\n56             6.0         4\n184            7.0         5\n71             7.0         5\n133            7.0         4\n57             7.0         5\n98             7.0         4\n105            7.0         4\n92             8.0         5\n119            8.0         4\n91             9.0         4\n84             9.0         4\n155            9.0         4\n176            9.0         4\n49             9.0         4\n7              9.0         4\n142            9.0         5\n112           10.0         4\n14            10.0         4\n28            11.0         4\n169           11.0         4\n63            14.0         4\n183           17.0         4",
      "text/html": "<div>\n<style scoped>\n    .dataframe tbody tr th:only-of-type {\n        vertical-align: middle;\n    }\n\n    .dataframe tbody tr th {\n        vertical-align: top;\n    }\n\n    .dataframe thead th {\n        text-align: right;\n    }\n</style>\n<table border=\"1\" class=\"dataframe\">\n  <thead>\n    <tr style=\"text-align: right;\">\n      <th></th>\n      <th>OfficerDosage</th>\n      <th>DayOfWeek</th>\n    </tr>\n  </thead>\n  <tbody>\n    <tr>\n      <th>120</th>\n      <td>5.0</td>\n      <td>5</td>\n    </tr>\n    <tr>\n      <th>113</th>\n      <td>5.0</td>\n      <td>5</td>\n    </tr>\n    <tr>\n      <th>149</th>\n      <td>5.0</td>\n      <td>5</td>\n    </tr>\n    <tr>\n      <th>85</th>\n      <td>6.0</td>\n      <td>5</td>\n    </tr>\n    <tr>\n      <th>15</th>\n      <td>6.0</td>\n      <td>5</td>\n    </tr>\n    <tr>\n      <th>42</th>\n      <td>6.0</td>\n      <td>4</td>\n    </tr>\n    <tr>\n      <th>35</th>\n      <td>6.0</td>\n      <td>4</td>\n    </tr>\n    <tr>\n      <th>56</th>\n      <td>6.0</td>\n      <td>4</td>\n    </tr>\n    <tr>\n      <th>184</th>\n      <td>7.0</td>\n      <td>5</td>\n    </tr>\n    <tr>\n      <th>71</th>\n      <td>7.0</td>\n      <td>5</td>\n    </tr>\n    <tr>\n      <th>133</th>\n      <td>7.0</td>\n      <td>4</td>\n    </tr>\n    <tr>\n      <th>57</th>\n      <td>7.0</td>\n      <td>5</td>\n    </tr>\n    <tr>\n      <th>98</th>\n      <td>7.0</td>\n      <td>4</td>\n    </tr>\n    <tr>\n      <th>105</th>\n      <td>7.0</td>\n      <td>4</td>\n    </tr>\n    <tr>\n      <th>92</th>\n      <td>8.0</td>\n      <td>5</td>\n    </tr>\n    <tr>\n      <th>119</th>\n      <td>8.0</td>\n      <td>4</td>\n    </tr>\n    <tr>\n      <th>91</th>\n      <td>9.0</td>\n      <td>4</td>\n    </tr>\n    <tr>\n      <th>84</th>\n      <td>9.0</td>\n      <td>4</td>\n    </tr>\n    <tr>\n      <th>155</th>\n      <td>9.0</td>\n      <td>4</td>\n    </tr>\n    <tr>\n      <th>176</th>\n      <td>9.0</td>\n      <td>4</td>\n    </tr>\n    <tr>\n      <th>49</th>\n      <td>9.0</td>\n      <td>4</td>\n    </tr>\n    <tr>\n      <th>7</th>\n      <td>9.0</td>\n      <td>4</td>\n    </tr>\n    <tr>\n      <th>142</th>\n      <td>9.0</td>\n      <td>5</td>\n    </tr>\n    <tr>\n      <th>112</th>\n      <td>10.0</td>\n      <td>4</td>\n    </tr>\n    <tr>\n      <th>14</th>\n      <td>10.0</td>\n      <td>4</td>\n    </tr>\n    <tr>\n      <th>28</th>\n      <td>11.0</td>\n      <td>4</td>\n    </tr>\n    <tr>\n      <th>169</th>\n      <td>11.0</td>\n      <td>4</td>\n    </tr>\n    <tr>\n      <th>63</th>\n      <td>14.0</td>\n      <td>4</td>\n    </tr>\n    <tr>\n      <th>183</th>\n      <td>17.0</td>\n      <td>4</td>\n    </tr>\n  </tbody>\n</table>\n</div>"
     },
     "execution_count": 63,
     "metadata": {},
     "output_type": "execute_result"
    }
   ],
   "source": [
    "\n",
    "combined[['OfficerDosage','DayOfWeek']].sort_values(by='OfficerDosage').iloc[-30:-1]"
   ],
   "metadata": {
    "collapsed": false,
    "pycharm": {
     "name": "#%%\n"
    }
   }
  },
  {
   "cell_type": "code",
   "execution_count": null,
   "outputs": [],
   "source": [],
   "metadata": {
    "collapsed": false,
    "pycharm": {
     "name": "#%%\n"
    }
   }
  }
 ],
 "metadata": {
  "kernelspec": {
   "display_name": "Python 3",
   "language": "python",
   "name": "python3"
  },
  "language_info": {
   "codemirror_mode": {
    "name": "ipython",
    "version": 2
   },
   "file_extension": ".py",
   "mimetype": "text/x-python",
   "name": "python",
   "nbconvert_exporter": "python",
   "pygments_lexer": "ipython2",
   "version": "2.7.6"
  }
 },
 "nbformat": 4,
 "nbformat_minor": 0
}